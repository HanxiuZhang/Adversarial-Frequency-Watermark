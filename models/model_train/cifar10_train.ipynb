{
 "cells": [
  {
   "cell_type": "code",
   "execution_count": 1,
   "metadata": {},
   "outputs": [],
   "source": [
    "import torch\n",
    "import torch.nn as nn\n",
    "import torch.optim as optim\n",
    "import torchvision\n",
    "import torchvision.datasets as datasets\n",
    "import torchvision.transforms as transforms\n",
    "import matplotlib.pyplot as plt \n",
    "import io\n",
    "import sys\n",
    "import os"
   ]
  },
  {
   "cell_type": "code",
   "execution_count": 2,
   "metadata": {},
   "outputs": [],
   "source": [
    "EPOCH = 10\n",
    "BATCH_SIZE = 32\n",
    "LR = 0.0001"
   ]
  },
  {
   "cell_type": "code",
   "execution_count": 3,
   "metadata": {},
   "outputs": [
    {
     "name": "stdout",
     "output_type": "stream",
     "text": [
      "Files already downloaded and verified\n",
      "Files already downloaded and verified\n"
     ]
    }
   ],
   "source": [
    "T = transforms.ToTensor()\n",
    "train_data = datasets.CIFAR10(root='~/newStuFile/ZHX/dataset/', train=True,transform=T,download=True)\n",
    "test_data =datasets.CIFAR10(root='~/newStuFile/ZHX/dataset/',train=False,transform=T,download=True)"
   ]
  },
  {
   "cell_type": "code",
   "execution_count": 4,
   "metadata": {},
   "outputs": [],
   "source": [
    "os.environ[\"CUDA_VISIBLE_DEVICES\"] = '2'"
   ]
  },
  {
   "cell_type": "code",
   "execution_count": 5,
   "metadata": {},
   "outputs": [],
   "source": [
    "sys.path.append('..')\n",
    "from alexnet import alexnet_cifar\n",
    "from vgg_19 import vgg19_cifar\n",
    "from torch.utils.data import DataLoader\n",
    "train_loader = DataLoader(dataset=train_data,batch_size=BATCH_SIZE,shuffle=True,num_workers=2)\n",
    "test_loader = DataLoader(dataset=test_data,batch_size=BATCH_SIZE,shuffle=True,num_workers=2)\n",
    "model = vgg19_cifar().cuda()"
   ]
  },
  {
   "cell_type": "code",
   "execution_count": 6,
   "metadata": {},
   "outputs": [
    {
     "data": {
      "text/plain": [
       "1563"
      ]
     },
     "execution_count": 6,
     "metadata": {},
     "output_type": "execute_result"
    }
   ],
   "source": [
    "len(train_loader)"
   ]
  },
  {
   "cell_type": "code",
   "execution_count": 7,
   "metadata": {},
   "outputs": [],
   "source": [
    "criterion = nn.CrossEntropyLoss()\n",
    "optimizer = optim.Adam(model.parameters(),lr=LR)"
   ]
  },
  {
   "cell_type": "code",
   "execution_count": null,
   "metadata": {},
   "outputs": [],
   "source": [
    "# model = torch.load('../pts/cifar_alexnet.pt')"
   ]
  },
  {
   "cell_type": "code",
   "execution_count": 8,
   "metadata": {},
   "outputs": [
    {
     "name": "stderr",
     "output_type": "stream",
     "text": [
      "0.006962: 100%|██████████| 15630/15630 [2:33:16<00:00,  1.70it/s] \n"
     ]
    }
   ],
   "source": [
    "model.train()\n",
    "from tqdm import tqdm\n",
    "with tqdm(total = EPOCH*len(train_loader)) as pbar:\n",
    "    for epoch in range(EPOCH):\n",
    "        for i,data in enumerate(train_loader):\n",
    "            inputs,labels = data\n",
    "            inputs,labels = inputs.cuda(),labels.cuda()\n",
    "            outputs = model(inputs)\n",
    "            loss = criterion(outputs,labels)\n",
    "            optimizer.zero_grad()\n",
    "            loss.backward()\n",
    "            optimizer.step()\n",
    "            pbar.update(1)\n",
    "            pbar.desc = '%f'%loss.item()"
   ]
  },
  {
   "cell_type": "code",
   "execution_count": 9,
   "metadata": {},
   "outputs": [],
   "source": [
    "torch.save(model,'../pts/cifar_vgg_19.pt')"
   ]
  },
  {
   "cell_type": "code",
   "execution_count": 10,
   "metadata": {
    "notebookRunGroups": {
     "groupValue": ""
    }
   },
   "outputs": [
    {
     "name": "stderr",
     "output_type": "stream",
     "text": [
      "100%|██████████| 313/313 [00:59<00:00,  5.29it/s]"
     ]
    },
    {
     "name": "stdout",
     "output_type": "stream",
     "text": [
      "Accuracy：80.1000%\n"
     ]
    },
    {
     "name": "stderr",
     "output_type": "stream",
     "text": [
      "\n"
     ]
    }
   ],
   "source": [
    "model.eval()\n",
    "correct,total = 0,0\n",
    "criterion = nn.CrossEntropyLoss()\n",
    "optimizer = optim.Adam(model.parameters(),lr=LR)\n",
    "with tqdm(total = len(test_loader)) as pbar:\n",
    "    for j,data in enumerate(test_loader):\n",
    "        inputs,labels = data\n",
    "        inputs,labels = inputs.cuda(),labels.cuda()\n",
    "        outputs = model(inputs)\n",
    "        _, predicted = torch.max(outputs.data,1)\n",
    "        total =total+labels.size(0)\n",
    "        correct = correct +(predicted == labels).sum().item()\n",
    "        pbar.update(1)\n",
    "print('Accuracy：{:.4f}%'.format(100.0*correct/total))"
   ]
  },
  {
   "cell_type": "code",
   "execution_count": 12,
   "metadata": {},
   "outputs": [],
   "source": [
    "def train(model, train_loader, save_name) -> nn.Module:\n",
    "    EPOCH = 10\n",
    "    BATCH_SIZE = 32\n",
    "    LR = 0.0001\n",
    "    model = model.cuda()\n",
    "    model.train()\n",
    "    with tqdm(total = EPOCH*len(train_loader)) as pbar:\n",
    "        for epoch in range(EPOCH):\n",
    "            for i,data in enumerate(train_loader):\n",
    "                inputs,labels = data\n",
    "                inputs,labels = inputs.cuda(),labels.cuda()\n",
    "                outputs = model(inputs)\n",
    "                loss = criterion(outputs,labels)\n",
    "                optimizer.zero_grad()\n",
    "                loss.backward()\n",
    "                optimizer.step()\n",
    "                pbar.update(1)\n",
    "                pbar.desc = '%f'%loss.item()\n",
    "    torch.save(model,'../pts/%s'%save_name)\n",
    "    return model"
   ]
  },
  {
   "cell_type": "code",
   "execution_count": 13,
   "metadata": {},
   "outputs": [
    {
     "name": "stderr",
     "output_type": "stream",
     "text": [
      "2.352819:   0%|          | 29/15630 [00:11<1:46:06,  2.45it/s]"
     ]
    }
   ],
   "source": [
    "from resnet_50 import resnet50_cifar\n",
    "resnet50_model = resnet50_cifar()\n",
    "train(resnet50_model,train_loader,'cifar_resnet_50')"
   ]
  },
  {
   "cell_type": "code",
   "execution_count": null,
   "metadata": {},
   "outputs": [],
   "source": []
  }
 ],
 "metadata": {
  "kernelspec": {
   "display_name": "Python 3.9.13 ('hancy')",
   "language": "python",
   "name": "python3"
  },
  "language_info": {
   "codemirror_mode": {
    "name": "ipython",
    "version": 3
   },
   "file_extension": ".py",
   "mimetype": "text/x-python",
   "name": "python",
   "nbconvert_exporter": "python",
   "pygments_lexer": "ipython3",
   "version": "3.9.13"
  },
  "vscode": {
   "interpreter": {
    "hash": "e7555c041b814db76246f1d37b84c8d922738f0bb00901561b183f622661f61a"
   }
  }
 },
 "nbformat": 4,
 "nbformat_minor": 4
}
