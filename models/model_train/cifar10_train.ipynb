{
 "cells": [
  {
   "cell_type": "code",
   "execution_count": 1,
   "metadata": {},
   "outputs": [],
   "source": [
    "import torch\n",
    "import torch.nn as nn\n",
    "import torch.optim as optim\n",
    "import torchvision\n",
    "import torchvision.datasets as datasets\n",
    "import torchvision.transforms as transforms\n",
    "import matplotlib.pyplot as plt \n",
    "import io\n",
    "import sys\n",
    "import os"
   ]
  },
  {
   "cell_type": "code",
   "execution_count": 2,
   "metadata": {},
   "outputs": [],
   "source": [
    "EPOCH = 100\n",
    "BATCH_SIZE = 64\n",
    "LR = 0.001"
   ]
  },
  {
   "cell_type": "code",
   "execution_count": 3,
   "metadata": {},
   "outputs": [
    {
     "name": "stdout",
     "output_type": "stream",
     "text": [
      "Files already downloaded and verified\n",
      "Files already downloaded and verified\n"
     ]
    }
   ],
   "source": [
    "T = transforms.ToTensor()\n",
    "train_data = datasets.CIFAR10(root='~/dataset/', train=True,transform=T,download=True)\n",
    "test_data =datasets.CIFAR10(root='~/dataset/',train=False,transform=T,download=True)"
   ]
  },
  {
   "cell_type": "code",
   "execution_count": 4,
   "metadata": {},
   "outputs": [],
   "source": [
    "sys.path.append('..')\n",
    "from alexnet import alexnet\n",
    "from resnet_50 import resnet_50\n",
    "from torch.utils.data import DataLoader\n",
    "from torchvision.models import AlexNet_Weights\n",
    "from torchvision.models import ResNet50_Weights\n",
    "train_loader = DataLoader(dataset=train_data,batch_size=BATCH_SIZE,shuffle=True,num_workers=2)\n",
    "test_loader = DataLoader(dataset=test_data,batch_size=BATCH_SIZE,shuffle=True,num_workers=2)\n",
    "model = resnet_50(weights = ResNet50_Weights.IMAGENET1K_V1)"
   ]
  },
  {
   "cell_type": "code",
   "execution_count": 5,
   "metadata": {},
   "outputs": [],
   "source": [
    "test_train = train_data[0][0]"
   ]
  },
  {
   "cell_type": "code",
   "execution_count": 6,
   "metadata": {},
   "outputs": [],
   "source": [
    "test_train = torch.unsqueeze(test_train,0)"
   ]
  },
  {
   "cell_type": "code",
   "execution_count": 7,
   "metadata": {},
   "outputs": [],
   "source": [
    "test_train = test_train.cuda()\n"
   ]
  },
  {
   "cell_type": "code",
   "execution_count": 8,
   "metadata": {},
   "outputs": [],
   "source": [
    "model = model.cuda()"
   ]
  },
  {
   "cell_type": "code",
   "execution_count": 9,
   "metadata": {},
   "outputs": [],
   "source": [
    "model = model.eval()"
   ]
  },
  {
   "cell_type": "code",
   "execution_count": 10,
   "metadata": {},
   "outputs": [],
   "source": [
    "# res = model(test_train)"
   ]
  },
  {
   "cell_type": "code",
   "execution_count": 11,
   "metadata": {},
   "outputs": [
    {
     "data": {
      "text/plain": [
       "tensor([[[[0.2314, 0.1686, 0.1961,  ..., 0.6196, 0.5961, 0.5804],\n",
       "          [0.0627, 0.0000, 0.0706,  ..., 0.4824, 0.4667, 0.4784],\n",
       "          [0.0980, 0.0627, 0.1922,  ..., 0.4627, 0.4706, 0.4275],\n",
       "          ...,\n",
       "          [0.8157, 0.7882, 0.7765,  ..., 0.6275, 0.2196, 0.2078],\n",
       "          [0.7059, 0.6784, 0.7294,  ..., 0.7216, 0.3804, 0.3255],\n",
       "          [0.6941, 0.6588, 0.7020,  ..., 0.8471, 0.5922, 0.4824]],\n",
       "\n",
       "         [[0.2431, 0.1804, 0.1882,  ..., 0.5176, 0.4902, 0.4863],\n",
       "          [0.0784, 0.0000, 0.0314,  ..., 0.3451, 0.3255, 0.3412],\n",
       "          [0.0941, 0.0275, 0.1059,  ..., 0.3294, 0.3294, 0.2863],\n",
       "          ...,\n",
       "          [0.6667, 0.6000, 0.6314,  ..., 0.5216, 0.1216, 0.1333],\n",
       "          [0.5451, 0.4824, 0.5647,  ..., 0.5804, 0.2431, 0.2078],\n",
       "          [0.5647, 0.5059, 0.5569,  ..., 0.7216, 0.4627, 0.3608]],\n",
       "\n",
       "         [[0.2471, 0.1765, 0.1686,  ..., 0.4235, 0.4000, 0.4039],\n",
       "          [0.0784, 0.0000, 0.0000,  ..., 0.2157, 0.1961, 0.2235],\n",
       "          [0.0824, 0.0000, 0.0314,  ..., 0.1961, 0.1961, 0.1647],\n",
       "          ...,\n",
       "          [0.3765, 0.1333, 0.1020,  ..., 0.2745, 0.0275, 0.0784],\n",
       "          [0.3765, 0.1647, 0.1176,  ..., 0.3686, 0.1333, 0.1333],\n",
       "          [0.4549, 0.3686, 0.3412,  ..., 0.5490, 0.3294, 0.2824]]]],\n",
       "       device='cuda:0')"
      ]
     },
     "execution_count": 11,
     "metadata": {},
     "output_type": "execute_result"
    }
   ],
   "source": [
    "test_train"
   ]
  },
  {
   "cell_type": "code",
   "execution_count": 12,
   "metadata": {},
   "outputs": [],
   "source": [
    "a = test_train.clone()"
   ]
  },
  {
   "cell_type": "code",
   "execution_count": 13,
   "metadata": {},
   "outputs": [],
   "source": [
    "b = train_data[1][0]"
   ]
  },
  {
   "cell_type": "code",
   "execution_count": 14,
   "metadata": {},
   "outputs": [
    {
     "data": {
      "text/plain": [
       "tensor([[[[0.2314, 0.1686, 0.1961,  ..., 0.6196, 0.5961, 0.5804],\n",
       "          [0.0627, 0.0000, 0.0706,  ..., 0.4824, 0.4667, 0.4784],\n",
       "          [0.0980, 0.0627, 0.1922,  ..., 0.4627, 0.4706, 0.4275],\n",
       "          ...,\n",
       "          [0.8157, 0.7882, 0.7765,  ..., 0.6275, 0.2196, 0.2078],\n",
       "          [0.7059, 0.6784, 0.7294,  ..., 0.7216, 0.3804, 0.3255],\n",
       "          [0.6941, 0.6588, 0.7020,  ..., 0.8471, 0.5922, 0.4824]],\n",
       "\n",
       "         [[0.2431, 0.1804, 0.1882,  ..., 0.5176, 0.4902, 0.4863],\n",
       "          [0.0784, 0.0000, 0.0314,  ..., 0.3451, 0.3255, 0.3412],\n",
       "          [0.0941, 0.0275, 0.1059,  ..., 0.3294, 0.3294, 0.2863],\n",
       "          ...,\n",
       "          [0.6667, 0.6000, 0.6314,  ..., 0.5216, 0.1216, 0.1333],\n",
       "          [0.5451, 0.4824, 0.5647,  ..., 0.5804, 0.2431, 0.2078],\n",
       "          [0.5647, 0.5059, 0.5569,  ..., 0.7216, 0.4627, 0.3608]],\n",
       "\n",
       "         [[0.2471, 0.1765, 0.1686,  ..., 0.4235, 0.4000, 0.4039],\n",
       "          [0.0784, 0.0000, 0.0000,  ..., 0.2157, 0.1961, 0.2235],\n",
       "          [0.0824, 0.0000, 0.0314,  ..., 0.1961, 0.1961, 0.1647],\n",
       "          ...,\n",
       "          [0.3765, 0.1333, 0.1020,  ..., 0.2745, 0.0275, 0.0784],\n",
       "          [0.3765, 0.1647, 0.1176,  ..., 0.3686, 0.1333, 0.1333],\n",
       "          [0.4549, 0.3686, 0.3412,  ..., 0.5490, 0.3294, 0.2824]]]],\n",
       "       device='cuda:0')"
      ]
     },
     "execution_count": 14,
     "metadata": {},
     "output_type": "execute_result"
    }
   ],
   "source": [
    "a"
   ]
  },
  {
   "cell_type": "code",
   "execution_count": 15,
   "metadata": {},
   "outputs": [],
   "source": [
    "b = torch.unsqueeze(b,0)"
   ]
  },
  {
   "cell_type": "code",
   "execution_count": 16,
   "metadata": {},
   "outputs": [],
   "source": [
    "b = b.cuda()"
   ]
  },
  {
   "cell_type": "code",
   "execution_count": 17,
   "metadata": {},
   "outputs": [
    {
     "data": {
      "text/plain": [
       "tensor([[[[-0.3725, -0.3255, -0.2157,  ...,  0.2627,  0.2549,  0.2706],\n",
       "          [-0.4863, -0.5686, -0.4196,  ...,  0.1059,  0.1647,  0.2000],\n",
       "          [-0.4510, -0.4824, -0.2588,  ...,  0.1529,  0.2039,  0.1647],\n",
       "          ...,\n",
       "          [ 0.1294,  0.1765,  0.1725,  ...,  0.4627, -0.0196, -0.1569],\n",
       "          [ 0.0588,  0.0667,  0.1059,  ...,  0.3176, -0.1020, -0.1882],\n",
       "          [ 0.0549,  0.0392,  0.0627,  ...,  0.2863,  0.0314, -0.0784]],\n",
       "\n",
       "         [[-0.4510, -0.3569, -0.2196,  ...,  0.1451,  0.1373,  0.1686],\n",
       "          [-0.5490, -0.6000, -0.4588,  ..., -0.0431,  0.0118,  0.0549],\n",
       "          [-0.5137, -0.5451, -0.3451,  ...,  0.0078,  0.0549,  0.0157],\n",
       "          ...,\n",
       "          [ 0.0118, -0.0039,  0.0039,  ...,  0.3882, -0.0863, -0.1922],\n",
       "          [-0.0588, -0.1137, -0.0667,  ...,  0.2157, -0.2039, -0.2667],\n",
       "          [-0.0157, -0.0745, -0.0549,  ...,  0.2000, -0.0627, -0.1608]],\n",
       "\n",
       "         [[-0.4863, -0.3569, -0.2039,  ...,  0.1451,  0.1216,  0.1294],\n",
       "          [-0.5843, -0.6039, -0.4627,  ..., -0.0902, -0.0471, -0.0157],\n",
       "          [-0.5608, -0.5843, -0.4078,  ..., -0.0549, -0.0196, -0.0510],\n",
       "          ...,\n",
       "          [-0.2745, -0.4941, -0.5647,  ...,  0.1333, -0.1961, -0.2784],\n",
       "          [-0.1255, -0.3451, -0.4392,  ..., -0.0078, -0.3373, -0.3804],\n",
       "          [-0.0157, -0.1098, -0.1804,  ...,  0.0039, -0.2275, -0.2824]]]],\n",
       "       device='cuda:0')"
      ]
     },
     "execution_count": 17,
     "metadata": {},
     "output_type": "execute_result"
    }
   ],
   "source": [
    "a-b"
   ]
  },
  {
   "cell_type": "code",
   "execution_count": 18,
   "metadata": {},
   "outputs": [
    {
     "data": {
      "text/plain": [
       "tensor([[[[0.1397, 0.0833, 0.0807,  ..., 0.2211, 0.2034, 0.1798],\n",
       "          [0.0344, 0.0000, 0.0346,  ..., 0.1816, 0.1409, 0.1332],\n",
       "          [0.0538, 0.0342, 0.0867,  ..., 0.1434, 0.1255, 0.1123],\n",
       "          ...,\n",
       "          [0.5598, 0.4822, 0.4689,  ..., 0.1033, 0.0525, 0.0758],\n",
       "          [0.4567, 0.4150, 0.4548,  ..., 0.2915, 0.1835, 0.1672],\n",
       "          [0.4437, 0.4082, 0.4487,  ..., 0.4750, 0.3321, 0.2705]],\n",
       "\n",
       "         [[0.1688, 0.0969, 0.0768,  ..., 0.1928, 0.1730, 0.1545],\n",
       "          [0.0492, 0.0000, 0.0154,  ..., 0.1340, 0.1021, 0.0977],\n",
       "          [0.0572, 0.0157, 0.0478,  ..., 0.1059, 0.0904, 0.0775],\n",
       "          ...,\n",
       "          [0.4366, 0.3624, 0.3962,  ..., 0.0695, 0.0253, 0.0434],\n",
       "          [0.3292, 0.2875, 0.3565,  ..., 0.2117, 0.1087, 0.0986],\n",
       "          [0.3278, 0.2936, 0.3407,  ..., 0.3763, 0.2432, 0.1882]],\n",
       "\n",
       "         [[0.1812, 0.0941, 0.0628,  ..., 0.1179, 0.1114, 0.1109],\n",
       "          [0.0520, 0.0000, 0.0000,  ..., 0.0660, 0.0477, 0.0535],\n",
       "          [0.0530, 0.0000, 0.0138,  ..., 0.0492, 0.0423, 0.0355],\n",
       "          ...,\n",
       "          [0.2451, 0.0837, 0.0680,  ..., 0.0388, 0.0061, 0.0280],\n",
       "          [0.1890, 0.0840, 0.0655,  ..., 0.1388, 0.0627, 0.0685],\n",
       "          [0.2141, 0.1764, 0.1779,  ..., 0.2993, 0.1834, 0.1594]]]],\n",
       "       device='cuda:0')"
      ]
     },
     "execution_count": 18,
     "metadata": {},
     "output_type": "execute_result"
    }
   ],
   "source": [
    "a*b"
   ]
  },
  {
   "cell_type": "code",
   "execution_count": 19,
   "metadata": {},
   "outputs": [],
   "source": [
    "from torchvision.models import resnet34\n",
    "from torchvision.models import ResNet34_Weights\n",
    "m = resnet34(weights = ResNet34_Weights.IMAGENET1K_V1)"
   ]
  },
  {
   "cell_type": "code",
   "execution_count": 20,
   "metadata": {},
   "outputs": [],
   "source": [
    "m = m.cuda()"
   ]
  },
  {
   "cell_type": "code",
   "execution_count": 21,
   "metadata": {},
   "outputs": [
    {
     "ename": "",
     "evalue": "",
     "output_type": "error",
     "traceback": [
      "\u001b[1;31mCanceled future for execute_request message before replies were done"
     ]
    },
    {
     "ename": "",
     "evalue": "",
     "output_type": "error",
     "traceback": [
      "\u001b[1;31mThe Kernel crashed while executing code in the the current cell or a previous cell. Please review the code in the cell(s) to identify a possible cause of the failure. Click <a href='https://aka.ms/vscodeJupyterKernelCrash'>here</a> for more info. View Jupyter <a href='command:jupyter.viewOutput'>log</a> for further details."
     ]
    }
   ],
   "source": [
    "m(a)"
   ]
  },
  {
   "cell_type": "code",
   "execution_count": null,
   "metadata": {},
   "outputs": [],
   "source": []
  }
 ],
 "metadata": {
  "kernelspec": {
   "display_name": "Python 3.9.12 ('hancy')",
   "language": "python",
   "name": "python3"
  },
  "language_info": {
   "codemirror_mode": {
    "name": "ipython",
    "version": 3
   },
   "file_extension": ".py",
   "mimetype": "text/x-python",
   "name": "python",
   "nbconvert_exporter": "python",
   "pygments_lexer": "ipython3",
   "version": "3.9.12"
  },
  "vscode": {
   "interpreter": {
    "hash": "89dafd34fc1edea171b19f7ce3e6c7409f5578092b2495aa5c8accef94bf1439"
   }
  }
 },
 "nbformat": 4,
 "nbformat_minor": 4
}
