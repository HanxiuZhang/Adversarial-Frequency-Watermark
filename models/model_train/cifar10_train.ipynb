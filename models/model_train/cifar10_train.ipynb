{
 "cells": [
  {
   "cell_type": "code",
   "execution_count": 1,
   "metadata": {},
   "outputs": [],
   "source": [
    "import torch\n",
    "import torch.nn as nn\n",
    "import torch.optim as optim\n",
    "import torchvision\n",
    "import torchvision.datasets as datasets\n",
    "import torchvision.transforms as transforms\n",
    "import matplotlib.pyplot as plt \n",
    "import io\n",
    "import sys\n",
    "import os"
   ]
  },
  {
   "cell_type": "code",
   "execution_count": 2,
   "metadata": {},
   "outputs": [],
   "source": [
    "EPOCH = 10\n",
    "BATCH_SIZE = 128\n",
    "LR = 0.0001"
   ]
  },
  {
   "cell_type": "code",
   "execution_count": 3,
   "metadata": {},
   "outputs": [
    {
     "name": "stdout",
     "output_type": "stream",
     "text": [
      "Files already downloaded and verified\n",
      "Files already downloaded and verified\n"
     ]
    }
   ],
   "source": [
    "T = transforms.ToTensor()\n",
    "train_data = datasets.CIFAR10(root='~/newStuFile/ZHX/dataset/', train=True,transform=T,download=True)\n",
    "test_data =datasets.CIFAR10(root='~/newStuFile/ZHX/dataset/',train=False,transform=T,download=True)"
   ]
  },
  {
   "cell_type": "code",
   "execution_count": 4,
   "metadata": {},
   "outputs": [],
   "source": [
    "os.environ[\"CUDA_VISIBLE_DEVICES\"] = '2'"
   ]
  },
  {
   "cell_type": "code",
   "execution_count": 11,
   "metadata": {},
   "outputs": [
    {
     "ename": "TypeError",
     "evalue": "VGG_with_trans() got an unexpected keyword argument 'num_classes'",
     "output_type": "error",
     "traceback": [
      "\u001b[0;31m---------------------------------------------------------------------------\u001b[0m",
      "\u001b[0;31mTypeError\u001b[0m                                 Traceback (most recent call last)",
      "\u001b[1;32m/home/dell/newStuFile/ZHX/adv_watermark/models/model_train/cifar10_train.ipynb Cell 5\u001b[0m in \u001b[0;36m<cell line: 7>\u001b[0;34m()\u001b[0m\n\u001b[1;32m      <a href='vscode-notebook-cell://ssh-remote%2B202.120.92.171/home/dell/newStuFile/ZHX/adv_watermark/models/model_train/cifar10_train.ipynb#W3sdnNjb2RlLXJlbW90ZQ%3D%3D?line=4'>5</a>\u001b[0m train_loader \u001b[39m=\u001b[39m DataLoader(dataset\u001b[39m=\u001b[39mtrain_data,batch_size\u001b[39m=\u001b[39mBATCH_SIZE,shuffle\u001b[39m=\u001b[39m\u001b[39mTrue\u001b[39;00m,num_workers\u001b[39m=\u001b[39m\u001b[39m2\u001b[39m)\n\u001b[1;32m      <a href='vscode-notebook-cell://ssh-remote%2B202.120.92.171/home/dell/newStuFile/ZHX/adv_watermark/models/model_train/cifar10_train.ipynb#W3sdnNjb2RlLXJlbW90ZQ%3D%3D?line=5'>6</a>\u001b[0m test_loader \u001b[39m=\u001b[39m DataLoader(dataset\u001b[39m=\u001b[39mtest_data,batch_size\u001b[39m=\u001b[39mBATCH_SIZE,shuffle\u001b[39m=\u001b[39m\u001b[39mTrue\u001b[39;00m,num_workers\u001b[39m=\u001b[39m\u001b[39m2\u001b[39m)\n\u001b[0;32m----> <a href='vscode-notebook-cell://ssh-remote%2B202.120.92.171/home/dell/newStuFile/ZHX/adv_watermark/models/model_train/cifar10_train.ipynb#W3sdnNjb2RlLXJlbW90ZQ%3D%3D?line=6'>7</a>\u001b[0m model \u001b[39m=\u001b[39m vgg19_cifar()\u001b[39m.\u001b[39mcuda()\n",
      "File \u001b[0;32m~/newStuFile/ZHX/adv_watermark/models/model_train/../vgg_19.py:61\u001b[0m, in \u001b[0;36mvgg19_cifar\u001b[0;34m()\u001b[0m\n\u001b[1;32m     59\u001b[0m \u001b[39mdef\u001b[39;00m \u001b[39mvgg19_cifar\u001b[39m():\n\u001b[1;32m     60\u001b[0m     cfgs_cfg \u001b[39m=\u001b[39m [\u001b[39m64\u001b[39m, \u001b[39m64\u001b[39m, \u001b[39m\"\u001b[39m\u001b[39mM\u001b[39m\u001b[39m\"\u001b[39m, \u001b[39m128\u001b[39m, \u001b[39m128\u001b[39m, \u001b[39m\"\u001b[39m\u001b[39mM\u001b[39m\u001b[39m\"\u001b[39m, \u001b[39m256\u001b[39m, \u001b[39m256\u001b[39m, \u001b[39m256\u001b[39m, \u001b[39m256\u001b[39m, \u001b[39m\"\u001b[39m\u001b[39mM\u001b[39m\u001b[39m\"\u001b[39m, \u001b[39m512\u001b[39m, \u001b[39m512\u001b[39m, \u001b[39m512\u001b[39m, \u001b[39m512\u001b[39m, \u001b[39m\"\u001b[39m\u001b[39mM\u001b[39m\u001b[39m\"\u001b[39m, \u001b[39m512\u001b[39m, \u001b[39m512\u001b[39m, \u001b[39m512\u001b[39m, \u001b[39m512\u001b[39m, \u001b[39m\"\u001b[39m\u001b[39mM\u001b[39m\u001b[39m\"\u001b[39m]\n\u001b[0;32m---> 61\u001b[0m     model \u001b[39m=\u001b[39m VGG_with_trans(make_layers(cfgs_cfg, batch_norm\u001b[39m=\u001b[39;49m\u001b[39mFalse\u001b[39;49;00m), num_classes\u001b[39m=\u001b[39;49m\u001b[39m10\u001b[39;49m)\n\u001b[1;32m     62\u001b[0m     \u001b[39mreturn\u001b[39;00m model\n",
      "\u001b[0;31mTypeError\u001b[0m: VGG_with_trans() got an unexpected keyword argument 'num_classes'"
     ]
    }
   ],
   "source": [
    "sys.path.append('..')\n",
    "from alexnet import alexnet_cifar\n",
    "from vgg_19 import vgg19_cifar\n",
    "from torch.utils.data import DataLoader\n",
    "train_loader = DataLoader(dataset=train_data,batch_size=BATCH_SIZE,shuffle=True,num_workers=2)\n",
    "test_loader = DataLoader(dataset=test_data,batch_size=BATCH_SIZE,shuffle=True,num_workers=2)\n",
    "model = vgg19_cifar().cuda()"
   ]
  },
  {
   "cell_type": "code",
   "execution_count": 7,
   "metadata": {},
   "outputs": [
    {
     "ename": "NameError",
     "evalue": "name 'train_loader' is not defined",
     "output_type": "error",
     "traceback": [
      "\u001b[0;31m---------------------------------------------------------------------------\u001b[0m",
      "\u001b[0;31mNameError\u001b[0m                                 Traceback (most recent call last)",
      "\u001b[1;32m/home/dell/newStuFile/ZHX/adv_watermark/models/model_train/cifar10_train.ipynb Cell 6\u001b[0m in \u001b[0;36m<cell line: 1>\u001b[0;34m()\u001b[0m\n\u001b[0;32m----> <a href='vscode-notebook-cell://ssh-remote%2B202.120.92.171/home/dell/newStuFile/ZHX/adv_watermark/models/model_train/cifar10_train.ipynb#X41sdnNjb2RlLXJlbW90ZQ%3D%3D?line=0'>1</a>\u001b[0m \u001b[39mlen\u001b[39m(train_loader)\n",
      "\u001b[0;31mNameError\u001b[0m: name 'train_loader' is not defined"
     ]
    }
   ],
   "source": [
    "len(train_loader)"
   ]
  },
  {
   "cell_type": "code",
   "execution_count": 8,
   "metadata": {},
   "outputs": [
    {
     "ename": "NameError",
     "evalue": "name 'model' is not defined",
     "output_type": "error",
     "traceback": [
      "\u001b[0;31m---------------------------------------------------------------------------\u001b[0m",
      "\u001b[0;31mNameError\u001b[0m                                 Traceback (most recent call last)",
      "\u001b[1;32m/home/dell/newStuFile/ZHX/adv_watermark/models/model_train/cifar10_train.ipynb Cell 7\u001b[0m in \u001b[0;36m<cell line: 2>\u001b[0;34m()\u001b[0m\n\u001b[1;32m      <a href='vscode-notebook-cell://ssh-remote%2B202.120.92.171/home/dell/newStuFile/ZHX/adv_watermark/models/model_train/cifar10_train.ipynb#X33sdnNjb2RlLXJlbW90ZQ%3D%3D?line=0'>1</a>\u001b[0m criterion \u001b[39m=\u001b[39m nn\u001b[39m.\u001b[39mCrossEntropyLoss()\n\u001b[0;32m----> <a href='vscode-notebook-cell://ssh-remote%2B202.120.92.171/home/dell/newStuFile/ZHX/adv_watermark/models/model_train/cifar10_train.ipynb#X33sdnNjb2RlLXJlbW90ZQ%3D%3D?line=1'>2</a>\u001b[0m optimizer \u001b[39m=\u001b[39m optim\u001b[39m.\u001b[39mAdam(model\u001b[39m.\u001b[39mparameters(),lr\u001b[39m=\u001b[39mLR)\n",
      "\u001b[0;31mNameError\u001b[0m: name 'model' is not defined"
     ]
    }
   ],
   "source": [
    "criterion = nn.CrossEntropyLoss()\n",
    "optimizer = optim.Adam(model.parameters(),lr=LR)"
   ]
  },
  {
   "cell_type": "code",
   "execution_count": null,
   "metadata": {},
   "outputs": [],
   "source": [
    "model = torch.load('../pts/cifar_alexnet.pt')"
   ]
  },
  {
   "cell_type": "code",
   "execution_count": null,
   "metadata": {},
   "outputs": [],
   "source": [
    "model.train()\n",
    "from tqdm import tqdm\n",
    "with tqdm(total = EPOCH*len(train_loader)) as pbar:\n",
    "    for epoch in range(EPOCH):\n",
    "        for i,data in enumerate(train_loader):\n",
    "            inputs,labels = data\n",
    "            inputs,labels = inputs.cuda(),labels.cuda()\n",
    "            outputs = model(inputs)\n",
    "            loss = criterion(outputs,labels)\n",
    "            optimizer.zero_grad()\n",
    "            loss.backward()\n",
    "            optimizer.step()\n",
    "            pbar.update(1)\n",
    "            pbar.desc = '%f'%loss.item()"
   ]
  },
  {
   "cell_type": "code",
   "execution_count": null,
   "metadata": {},
   "outputs": [],
   "source": [
    "torch.save(model,'../pts/cifar_alexnet.pt')"
   ]
  },
  {
   "cell_type": "code",
   "execution_count": null,
   "metadata": {
    "notebookRunGroups": {
     "groupValue": ""
    }
   },
   "outputs": [],
   "source": [
    "model.eval()\n",
    "correct,total = 0,0\n",
    "with tqdm(total = len(test_loader)) as pbar:\n",
    "    for j,data in enumerate(test_loader):\n",
    "        inputs,labels = data\n",
    "        inputs,labels = inputs.cuda(),labels.cuda()\n",
    "        outputs = model(inputs)\n",
    "        _, predicted = torch.max(outputs.data,1)\n",
    "        total =total+labels.size(0)\n",
    "        correct = correct +(predicted == labels).sum().item()\n",
    "        pbar.update(1)\n",
    "print('Accuracy：{:.4f}%'.format(100.0*correct/total))"
   ]
  },
  {
   "cell_type": "code",
   "execution_count": null,
   "metadata": {},
   "outputs": [],
   "source": []
  }
 ],
 "metadata": {
  "kernelspec": {
   "display_name": "Python 3.9.13 ('hancy')",
   "language": "python",
   "name": "python3"
  },
  "language_info": {
   "codemirror_mode": {
    "name": "ipython",
    "version": 3
   },
   "file_extension": ".py",
   "mimetype": "text/x-python",
   "name": "python",
   "nbconvert_exporter": "python",
   "pygments_lexer": "ipython3",
   "version": "3.9.13"
  },
  "vscode": {
   "interpreter": {
    "hash": "e7555c041b814db76246f1d37b84c8d922738f0bb00901561b183f622661f61a"
   }
  }
 },
 "nbformat": 4,
 "nbformat_minor": 4
}
