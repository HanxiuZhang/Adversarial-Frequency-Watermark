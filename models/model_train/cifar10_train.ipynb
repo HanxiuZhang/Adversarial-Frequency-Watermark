{
 "cells": [
  {
   "cell_type": "code",
   "execution_count": 1,
   "metadata": {},
   "outputs": [],
   "source": [
    "import torch\n",
    "import torch.nn as nn\n",
    "import torch.optim as optim\n",
    "import torchvision\n",
    "import torchvision.datasets as datasets\n",
    "import torchvision.transforms as transforms\n",
    "import matplotlib.pyplot as plt \n",
    "import io\n",
    "import sys\n",
    "import os\n",
    "import tqdm"
   ]
  },
  {
   "cell_type": "code",
   "execution_count": 2,
   "metadata": {},
   "outputs": [],
   "source": [
    "EPOCH = 10\n",
    "BATCH_SIZE = 32\n",
    "LR = 0.0001"
   ]
  },
  {
   "cell_type": "code",
   "execution_count": 3,
   "metadata": {},
   "outputs": [
    {
     "name": "stdout",
     "output_type": "stream",
     "text": [
      "Files already downloaded and verified\n",
      "Files already downloaded and verified\n"
     ]
    }
   ],
   "source": [
    "T = transforms.ToTensor()\n",
    "train_data = datasets.CIFAR10(root='~/newStuFile/ZHX/dataset/', train=True,transform=T,download=True)\n",
    "test_data =datasets.CIFAR10(root='~/newStuFile/ZHX/dataset/',train=False,transform=T,download=True)\n",
    "sys.path.append('..')\n",
    "from torch.utils.data import DataLoader\n",
    "train_loader = DataLoader(dataset=train_data,batch_size=BATCH_SIZE,shuffle=True,num_workers=2)\n",
    "test_loader = DataLoader(dataset=test_data,batch_size=BATCH_SIZE,shuffle=True,num_workers=2)"
   ]
  },
  {
   "cell_type": "code",
   "execution_count": 4,
   "metadata": {},
   "outputs": [],
   "source": [
    "os.environ[\"CUDA_VISIBLE_DEVICES\"] = '2'"
   ]
  },
  {
   "cell_type": "code",
   "execution_count": 30,
   "metadata": {},
   "outputs": [],
   "source": [
    "def train(model, train_loader, save_name) -> nn.Module:\n",
    "    EPOCH = 10\n",
    "    BATCH_SIZE = 32\n",
    "    LR = 0.00001\n",
    "    criterion = nn.CrossEntropyLoss()\n",
    "    optimizer = optim.Adam(model.parameters(),lr=LR)\n",
    "    model = model.cuda()\n",
    "    model.train()\n",
    "    with tqdm(total = EPOCH*len(train_loader)) as pbar:\n",
    "        for epoch in range(EPOCH):\n",
    "            for i,data in enumerate(train_loader):\n",
    "                inputs,labels = data\n",
    "                inputs,labels = inputs.cuda(),labels.cuda()\n",
    "                outputs = model(inputs)\n",
    "                loss = criterion(outputs,labels)\n",
    "                optimizer.zero_grad()\n",
    "                loss.backward()\n",
    "                optimizer.step()\n",
    "                pbar.update(1)\n",
    "                pbar.desc = '%f'%loss.item()\n",
    "    torch.save(model,'../pts/%s'%save_name)\n",
    "    return model"
   ]
  },
  {
   "cell_type": "code",
   "execution_count": 24,
   "metadata": {},
   "outputs": [],
   "source": [
    "def test(model,test_loader) -> float:\n",
    "    model.eval()\n",
    "    correct,total = 0,0\n",
    "    with tqdm(total = len(test_loader)) as pbar:\n",
    "        for j,data in enumerate(test_loader):\n",
    "            inputs,labels = data\n",
    "            inputs,labels = inputs.cuda(),labels.cuda()\n",
    "            outputs = model(inputs)\n",
    "            _, predicted = torch.max(outputs.data,1)\n",
    "            total =total+labels.size(0)\n",
    "            correct = correct +(predicted == labels).sum().item()\n",
    "            pbar.update(1)\n",
    "    acc = 100.0*correct/total\n",
    "    print('Accuracy：{:.4f}%'.format(acc))\n",
    "    return acc"
   ]
  },
  {
   "cell_type": "code",
   "execution_count": null,
   "metadata": {},
   "outputs": [],
   "source": [
    "from alexnet import alexnet_cifar\n",
    "alexnet_model = alexnet_cifar()\n",
    "alexnet_model = train(alexnet_model,train_loader,'cifar_alexnet.pt')\n",
    "acc_alexnet = test(alexnet_model,test_loader)"
   ]
  },
  {
   "cell_type": "code",
   "execution_count": null,
   "metadata": {},
   "outputs": [],
   "source": [
    "from vgg_19 import vgg19_cifar\n",
    "vgg19_model = vgg19_cifar()\n",
    "vgg19_model = train(vgg19_model,train_loader,'cifar_vgg19.pt')\n",
    "acc_vgg19 = test(vgg19_model,test_loader)"
   ]
  },
  {
   "cell_type": "code",
   "execution_count": 15,
   "metadata": {},
   "outputs": [
    {
     "name": "stderr",
     "output_type": "stream",
     "text": [
      "0.025620: 100%|██████████| 15630/15630 [1:35:02<00:00,  2.74it/s]\n"
     ]
    }
   ],
   "source": [
    "from resnet_50 import resnet50_cifar\n",
    "resnet50_model = resnet50_cifar()\n",
    "resnet_50_model = train(resnet50_model,train_loader,'cifar_resnet_50')\n",
    "acc_resnet50 = test(resnet_50_model,test_loader)"
   ]
  },
  {
   "cell_type": "code",
   "execution_count": 26,
   "metadata": {},
   "outputs": [
    {
     "name": "stderr",
     "output_type": "stream",
     "text": [
      "0.180185: 100%|██████████| 15630/15630 [40:49<00:00,  6.38it/s]\n",
      "100%|██████████| 313/313 [00:15<00:00, 20.36it/s]"
     ]
    },
    {
     "name": "stdout",
     "output_type": "stream",
     "text": [
      "Accuracy：79.2800%\n"
     ]
    },
    {
     "name": "stderr",
     "output_type": "stream",
     "text": [
      "\n"
     ]
    }
   ],
   "source": [
    "from mobilenet_v2 import mobilenetv2_cifar\n",
    "mobilenetv2_model = mobilenetv2_cifar()\n",
    "mobilenetv2_model = train(mobilenetv2_model,train_loader,'cifar_mobilenet_v2.pt')\n",
    "acc_mobilenetv2 = test(mobilenetv2_model,test_loader)"
   ]
  },
  {
   "cell_type": "code",
   "execution_count": 27,
   "metadata": {},
   "outputs": [
    {
     "name": "stderr",
     "output_type": "stream",
     "text": [
      "0.205031: 100%|██████████| 15630/15630 [53:06<00:00,  4.90it/s] \n",
      "100%|██████████| 313/313 [00:22<00:00, 13.71it/s]"
     ]
    },
    {
     "name": "stdout",
     "output_type": "stream",
     "text": [
      "Accuracy：64.7200%\n"
     ]
    },
    {
     "name": "stderr",
     "output_type": "stream",
     "text": [
      "\n"
     ]
    }
   ],
   "source": [
    "from densenet_201 import densenet201_cifar\n",
    "densenet201_model = densenet201_cifar()\n",
    "densenet201_model = train(densenet201_model,train_loader,'cifar_densenet_201.pt')\n",
    "acc_densenet201 = test(densenet201_model,test_loader)"
   ]
  },
  {
   "cell_type": "code",
   "execution_count": 31,
   "metadata": {},
   "outputs": [
    {
     "name": "stderr",
     "output_type": "stream",
     "text": [
      "0.004867: 100%|██████████| 15630/15630 [53:28<00:00,  4.87it/s] \n",
      "100%|██████████| 313/313 [00:22<00:00, 13.81it/s]"
     ]
    },
    {
     "name": "stdout",
     "output_type": "stream",
     "text": [
      "Accuracy：67.4900%\n"
     ]
    },
    {
     "name": "stderr",
     "output_type": "stream",
     "text": [
      "\n"
     ]
    }
   ],
   "source": [
    "ds_model = torch.load('../pts/cifar_densenet_201.pt')\n",
    "ds_model = train(ds_model,train_loader,'cifar_densenet_201_09211002.pt')\n",
    "acc_densenet201 = test(ds_model,test_loader)"
   ]
  },
  {
   "cell_type": "markdown",
   "metadata": {},
   "source": []
  },
  {
   "cell_type": "code",
   "execution_count": null,
   "metadata": {},
   "outputs": [],
   "source": []
  }
 ],
 "metadata": {
  "kernelspec": {
   "display_name": "Python 3.9.13 ('hancy')",
   "language": "python",
   "name": "python3"
  },
  "language_info": {
   "codemirror_mode": {
    "name": "ipython",
    "version": 3
   },
   "file_extension": ".py",
   "mimetype": "text/x-python",
   "name": "python",
   "nbconvert_exporter": "python",
   "pygments_lexer": "ipython3",
   "version": "3.9.13"
  },
  "vscode": {
   "interpreter": {
    "hash": "e7555c041b814db76246f1d37b84c8d922738f0bb00901561b183f622661f61a"
   }
  }
 },
 "nbformat": 4,
 "nbformat_minor": 4
}
