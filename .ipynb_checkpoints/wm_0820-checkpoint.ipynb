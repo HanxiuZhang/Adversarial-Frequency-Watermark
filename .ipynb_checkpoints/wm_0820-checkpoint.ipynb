{
 "cells": [
  {
   "cell_type": "markdown",
   "id": "01eedd40",
   "metadata": {},
   "source": [
    "# 2022.8.20-21\n",
    "- Distance metric for image similarity (with digital watermark)\n",
    "- (0,0) $\\alpha$=50 > (0,0) $\\alpha$=5 $\\approx$ (80,80) $\\alpha$ = 50"
   ]
  },
  {
   "cell_type": "code",
   "execution_count": null,
   "id": "fe74e594",
   "metadata": {},
   "outputs": [],
   "source": [
    "import cv2\n",
    "import numpy as np\n",
    "import matplotlib.pyplot as plt"
   ]
  },
  {
   "cell_type": "code",
   "execution_count": null,
   "id": "3c9b8bf3",
   "metadata": {},
   "outputs": [],
   "source": [
    "def pltshow(img,gray=False):\n",
    "    plt.figure(figsize=(5,5))\n",
    "    plt.axis('off')\n",
    "    if(gray):\n",
    "        plt.imshow(img,cmap='gray')\n",
    "    else:\n",
    "        plt.imshow(img)"
   ]
  },
  {
   "cell_type": "code",
   "execution_count": null,
   "id": "9ef7c366",
   "metadata": {},
   "outputs": [],
   "source": [
    "# load and show original image\n",
    "img = cv2.imread('bag2.jpg')\n",
    "img = cv2.cvtColor(img,cv2.COLOR_BGR2RGB)"
   ]
  },
  {
   "cell_type": "code",
   "execution_count": null,
   "id": "9b84bb10",
   "metadata": {},
   "outputs": [],
   "source": [
    "# load and show watermark image\n",
    "wm = cv2.imread('zhx3.jpg',cv2.IMREAD_GRAYSCALE)\n",
    "wm = np.where(wm<np.mean(wm),0,255)"
   ]
  },
  {
   "cell_type": "code",
   "execution_count": null,
   "id": "77ace590",
   "metadata": {},
   "outputs": [],
   "source": [
    "# add border to image so that it can be divided perfectly with block_size\n",
    "def addborder(img,block_size=4):\n",
    "    diff_x = img.shape[0] % block_size\n",
    "    diff_y = img.shape[1] % block_size\n",
    "    if (diff_x==0 and diff_y==0):\n",
    "        return img\n",
    "    img = cv2.copyMakeBorder(img,\n",
    "              0,(block_size-diff_x),\n",
    "              0,(block_size-diff_y),\n",
    "              cv2.BORDER_REPLICATE)\n",
    "    return img"
   ]
  },
  {
   "cell_type": "code",
   "execution_count": null,
   "id": "a688e363",
   "metadata": {},
   "outputs": [],
   "source": [
    "# tranform an image from original image to dct blocks\n",
    "# param bk: a 2-dim numpy array\n",
    "# param block_size: int\n",
    "def dct_img(bk,block_size):\n",
    "  img_dct_blocks_h = bk.shape[0] // block_size\n",
    "  img_dct_blocks_w = bk.shape[1] // block_size\n",
    "  img_dct_blocks = np.zeros(shape=(\n",
    "      (img_dct_blocks_h,img_dct_blocks_w,block_size,block_size)\n",
    "  ))\n",
    "  h_data = np.vsplit(bk,img_dct_blocks_h)\n",
    "  for h in range(img_dct_blocks_h):\n",
    "    block_data = np.hsplit(h_data[h],img_dct_blocks_w)\n",
    "    for w in range(img_dct_blocks_w):\n",
    "        a_block = block_data[w]\n",
    "        img_dct_blocks[h,w,...] = cv2.dct(a_block.astype(np.float64))\n",
    "  return img_dct_blocks"
   ]
  },
  {
   "cell_type": "code",
   "execution_count": null,
   "id": "3f1296e2",
   "metadata": {},
   "outputs": [],
   "source": [
    "# embed gray-scale watermrk into original RGB image\n",
    "# param img: original image (3-dim RGB)\n",
    "# param wm: watermark image (2-dim gray)\n",
    "# param k1/k2: block-size 1-dim numpy array\n",
    "# param alpha: embed strength\n",
    "def embed_wm(img,wm,block_size,k1,k2,alpha,x=0,y=0):\n",
    "  wm = np.where(wm<np.mean(wm),0,1)\n",
    "  yuv_img = cv2.cvtColor(img,cv2.COLOR_RGB2YUV)\n",
    "  Y,U,V = yuv_img[...,0],yuv_img[...,1],yuv_img[...,2]\n",
    "  bk = U\n",
    "  img_dct_blocks = dct_img(bk,block_size)\n",
    "  dct_embed_result = img_dct_blocks.copy()\n",
    "  if (wm.shape[0]+x>img_dct_blocks.shape[0] or wm.shape[1]+y>img_dct_blocks.shape[1]):\n",
    "    print('Illegal location')\n",
    "    return None\n",
    "  for h in range(x,wm.shape[0]+x):\n",
    "      for w in range(y,wm.shape[1]+y):\n",
    "          k = k1 if wm[h-x,w-y] == 1 else k2\n",
    "          for i in range(block_size):\n",
    "              dct_embed_result[h,w,i,block_size-1] = \\\n",
    "              img_dct_blocks[h,w,i,block_size-1] + alpha * k[i]\n",
    "  row = None\n",
    "  idct_result = None\n",
    "  for h in range(dct_embed_result.shape[0]):\n",
    "      for w in range(dct_embed_result.shape[1]):\n",
    "          block = cv2.idct(dct_embed_result[h,w,...])\n",
    "          row = block if w == 0 else np.hstack((row,block))\n",
    "      idct_result = row if h == 0 else np.vstack((idct_result,row))\n",
    "  img_embed_result_yuv = np.stack((Y,idct_result,V),axis=2).astype(np.uint8)\n",
    "  img_embed_result_bgr = cv2.cvtColor(img_embed_result_yuv,cv2.COLOR_YUV2BGR)\n",
    "  img_embed_result = cv2.cvtColor(img_embed_result_bgr,cv2.COLOR_BGR2RGB)\n",
    "  return img_embed_result"
   ]
  },
  {
   "cell_type": "code",
   "execution_count": null,
   "id": "496553ec",
   "metadata": {},
   "outputs": [],
   "source": [
    "def mean2(x):\n",
    "    y = np.sum(x) / np.size(x);\n",
    "    return y\n",
    "# correlation estimation\n",
    "def corr2(a, b):\n",
    "    a = a - mean2(a)\n",
    "    b = b - mean2(b)\n",
    "    r = (a * b).sum() / (np.sqrt((a * a).sum() * (b * b).sum())+1e-9)\n",
    "    return r"
   ]
  },
  {
   "cell_type": "code",
   "execution_count": null,
   "id": "0891e0d5",
   "metadata": {},
   "outputs": [],
   "source": [
    "# extract watermark from RGB wmed image\n",
    "# param img: wmed RGB image\n",
    "# param k1/k2: block-size 1-dim numpy array\n",
    "# param wm_shape: 1-dim array [height,width] of watermark\n",
    "# param block_size: int\n",
    "def recover_wm(img,k1,k2,wm_shape,block_size,x=0,y=0):\n",
    "  recover_wm = np.zeros(shape=wm.shape)\n",
    "  yuv_img = cv2.cvtColor(img,cv2.COLOR_RGB2YUV)\n",
    "  Y,U,V = yuv_img[...,0],yuv_img[...,1],yuv_img[...,2]\n",
    "  bk = U\n",
    "  wmed_dct_result = dct_img(bk,block_size)\n",
    "  p = np.zeros(block_size)\n",
    "  for h in range(x,wm_shape[0]+x):\n",
    "      for w in range(y,wm_shape[1]+y):\n",
    "          for k in range(block_size):\n",
    "              p[k] = wmed_dct_result[h,w,k,block_size-1]\n",
    "          if corr2(p,k1) > corr2(p,k2):\n",
    "              recover_wm[h-x,w-y] = corr2(p,k1)\n",
    "          else:\n",
    "              recover_wm[h-x,w-y] = 0\n",
    "  return recover_wm"
   ]
  },
  {
   "cell_type": "code",
   "execution_count": null,
   "id": "c6315b81",
   "metadata": {},
   "outputs": [],
   "source": [
    "def changebkcolor(img,low=np.array([5, 0, 0]),upper=np.array([255, 255, 220]),color=(255, 255, 0)):\n",
    "    img_bk = img.copy()\n",
    "    hsv = cv2.cvtColor(img, cv2.COLOR_RGB2HSV)\n",
    "    mask = cv2.inRange(hsv, low, upper)\n",
    "    rows,cols = mask.shape\n",
    "    for i in range(rows):\n",
    "        for j in range(cols):\n",
    "            if mask[i, j] == 0:  # 255 means white\n",
    "                img_bk[i, j] = color\n",
    "    return img_bk"
   ]
  },
  {
   "cell_type": "code",
   "execution_count": null,
   "id": "bc313e93",
   "metadata": {},
   "outputs": [],
   "source": []
  }
 ],
 "metadata": {
  "kernelspec": {
   "display_name": "Python 3 (ipykernel)",
   "language": "python",
   "name": "python3"
  },
  "language_info": {
   "codemirror_mode": {
    "name": "ipython",
    "version": 3
   },
   "file_extension": ".py",
   "mimetype": "text/x-python",
   "name": "python",
   "nbconvert_exporter": "python",
   "pygments_lexer": "ipython3",
   "version": "3.9.12"
  },
  "varInspector": {
   "cols": {
    "lenName": 16,
    "lenType": 16,
    "lenVar": 40
   },
   "kernels_config": {
    "python": {
     "delete_cmd_postfix": "",
     "delete_cmd_prefix": "del ",
     "library": "var_list.py",
     "varRefreshCmd": "print(var_dic_list())"
    },
    "r": {
     "delete_cmd_postfix": ") ",
     "delete_cmd_prefix": "rm(",
     "library": "var_list.r",
     "varRefreshCmd": "cat(var_dic_list()) "
    }
   },
   "types_to_exclude": [
    "module",
    "function",
    "builtin_function_or_method",
    "instance",
    "_Feature"
   ],
   "window_display": false
  }
 },
 "nbformat": 4,
 "nbformat_minor": 5
}
