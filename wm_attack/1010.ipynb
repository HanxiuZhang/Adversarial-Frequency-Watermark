{
 "cells": [
  {
   "cell_type": "code",
   "execution_count": 2,
   "metadata": {},
   "outputs": [],
   "source": [
    "import sys\n",
    "sys.path.append('..')\n",
    "from utils import *\n",
    "sys.path.append('../attacks/')\n",
    "from fgsm import *\n",
    "from fgm import *\n",
    "sys.path.append('../models/')\n",
    "from torch import nn,norm\n",
    "import torch\n",
    "from torchvision import transforms, datasets\n",
    "import numpy as np\n",
    "from tqdm import tqdm\n",
    "import cv2\n",
    "import pandas as pd\n",
    "import numpy as np\n",
    "from alexnet import *\n",
    "from densenet_201 import *\n",
    "from mobilenet_v2 import *\n",
    "from resnet_50 import *\n",
    "from vgg_19 import *"
   ]
  },
  {
   "cell_type": "code",
   "execution_count": 3,
   "metadata": {},
   "outputs": [
    {
     "name": "stdout",
     "output_type": "stream",
     "text": [
      "Files already downloaded and verified\n"
     ]
    }
   ],
   "source": [
    "imgs = datasets.CIFAR10(root='/home/hancy/dataset/',train=False,transform=transforms.ToTensor(),download=True)"
   ]
  },
  {
   "cell_type": "code",
   "execution_count": 4,
   "metadata": {},
   "outputs": [],
   "source": [
    "wm_origin = cv2.imread('../img/logo.jpg')\n",
    "wm_origin = cv2.cvtColor(wm_origin,cv2.COLOR_BGR2RGB)\n",
    "wm_origin = transforms.ToTensor()(wm_origin).cuda()"
   ]
  },
  {
   "cell_type": "code",
   "execution_count": 5,
   "metadata": {},
   "outputs": [],
   "source": [
    "def attack_and_record(filename: str,model: nn.Module, imgs:datasets, wm_origin: Tensor):\n",
    "    block_size = 4\n",
    "    alpha = 0.1\n",
    "    beta = 10/255\n",
    "    l1 = 0.01\n",
    "    l2 = 0.01\n",
    "    s_a = 0.0005\n",
    "    s_b = 0.0001\n",
    "    N = 20\n",
    "    beta_max = 20/255\n",
    "    with open(filename,'a') as file:\n",
    "        for i in tqdm(range(len(imgs)), desc='Processing'):\n",
    "            img = imgs[i][0].cuda()\n",
    "            # img = addborder(img,block_size)\n",
    "            wm = transforms.Resize(img.size()[-2:])(wm_origin)\n",
    "            target = torch.tensor([imgs[i][1]]).cuda()\n",
    "            pred_label = model(img.unsqueeze(0)).argmax().item()\n",
    "            perd_img,wm_extracted,a_res,b_res = fgsm_wm_opti(img,target,wm,model,alpha,beta,block_size,N,l1,l2,s_a,s_b,beta_max)\n",
    "            res = model(perd_img.unsqueeze(0))\n",
    "            perd_label = res.argmax().item()\n",
    "            wm_l2_norm = norm(wm_extracted-wm).item()\n",
    "            img_l2_norm = norm(perd_img-img).item()\n",
    "            file.write('{},{},{},{},{},{},{},{}\\n'.format(i,imgs[i][1],pred_label,perd_label,wm_l2_norm,img_l2_norm,a_res,b_res))"
   ]
  },
  {
   "cell_type": "code",
   "execution_count": 14,
   "metadata": {},
   "outputs": [],
   "source": [
    "def check_result(filename,direct_mode=False):\n",
    "    cols = ['index','label','pred_label','perd_label','wm_l2','img_l2','alpha','beta']\n",
    "    if(direct_mode):\n",
    "        cols = ['index','label','pred_label','perd_label','wm_l2','img_l2']\n",
    "    res = pd.read_csv(filename,names=cols,header=None)\n",
    "    print('Fool Rate:{}'.format((res['perd_label'] != res['pred_label']).sum()/res['index'].count()))\n",
    "    print('Watermark L2:{}'.format(res['wm_l2'].sum() / res['wm_l2'].count()))\n",
    "    print('Image L2:{}'.format(res['img_l2'].sum() / res['img_l2'].count()))"
   ]
  },
  {
   "cell_type": "code",
   "execution_count": 7,
   "metadata": {},
   "outputs": [],
   "source": [
    "def attack_and_record_direct(filename: str,model: nn.Module, imgs:datasets, wm_origin: Tensor):\n",
    "    block_size = 4\n",
    "    alpha = 0.1\n",
    "    beta = 10/255\n",
    "    with open(filename,'a') as file:\n",
    "        for i in tqdm(range(len(imgs)), desc='Processing'):\n",
    "            img = imgs[i][0].cuda()\n",
    "            # img = addborder(img,block_size)\n",
    "            wm = transforms.Resize(img.size()[-2:])(wm_origin)\n",
    "            target = torch.tensor([imgs[i][1]]).cuda()\n",
    "            pred_label = model(img.unsqueeze(0)).argmax().item()\n",
    "            perd_img = fgsm_direct(img,target,wm,model,alpha,beta,block_size)\n",
    "            wm_extracted = extract_wm(img,perd_img,alpha,block_size)\n",
    "            res = model(perd_img.unsqueeze(0))\n",
    "            perd_label = res.argmax().item()\n",
    "            wm_l2_norm = norm(wm_extracted-wm).item()\n",
    "            img_l2_norm = norm(perd_img-img).item()\n",
    "            file.write('{},{},{},{},{},{}\\n'.format(i,imgs[i][1],pred_label,perd_label,wm_l2_norm,img_l2_norm))"
   ]
  },
  {
   "cell_type": "code",
   "execution_count": 1,
   "metadata": {},
   "outputs": [
    {
     "ename": "NameError",
     "evalue": "name 'torch' is not defined",
     "output_type": "error",
     "traceback": [
      "\u001b[0;31m---------------------------------------------------------------------------\u001b[0m",
      "\u001b[0;31mNameError\u001b[0m                                 Traceback (most recent call last)",
      "\u001b[1;32m/home/hancy/code/adv_wm/wm_attack/1010.ipynb Cell 7\u001b[0m in \u001b[0;36m<cell line: 1>\u001b[0;34m()\u001b[0m\n\u001b[0;32m----> <a href='vscode-notebook-cell://ssh-remote%2B172.23.135.240/home/hancy/code/adv_wm/wm_attack/1010.ipynb#W6sdnNjb2RlLXJlbW90ZQ%3D%3D?line=0'>1</a>\u001b[0m model \u001b[39m=\u001b[39m torch\u001b[39m.\u001b[39mload(\u001b[39m'\u001b[39m\u001b[39m/home/hancy/code/adv_wm/models/pts/cifar_resnet_50.pt\u001b[39m\u001b[39m'\u001b[39m)\u001b[39m.\u001b[39mcuda()\u001b[39m.\u001b[39meval()\n",
      "\u001b[0;31mNameError\u001b[0m: name 'torch' is not defined"
     ]
    }
   ],
   "source": [
    "model = torch.load('/home/hancy/code/adv_wm/models/pts/cifar_resnet_50.pt').cuda().eval()"
   ]
  },
  {
   "cell_type": "code",
   "execution_count": 30,
   "metadata": {},
   "outputs": [
    {
     "name": "stderr",
     "output_type": "stream",
     "text": [
      "Processing: 100%|██████████| 10000/10000 [04:26<00:00, 37.48it/s]"
     ]
    },
    {
     "name": "stdout",
     "output_type": "stream",
     "text": [
      "Fool Rate:0.7362\n",
      "Watermark L2:21.64954025098348\n",
      "Image L2:2.4962350352287292\n"
     ]
    },
    {
     "name": "stderr",
     "output_type": "stream",
     "text": [
      "\n"
     ]
    }
   ],
   "source": [
    "filename = '/home/hancy/code/adv_wm/atk_result/10181000_mobilenetv2_fgsm_direct_cifar.txt'\n",
    "attack_and_record_direct(filename,model,imgs,wm_origin)\n",
    "check_result(filename,True)"
   ]
  },
  {
   "cell_type": "code",
   "execution_count": 31,
   "metadata": {},
   "outputs": [
    {
     "name": "stderr",
     "output_type": "stream",
     "text": [
      "Processing: 100%|██████████| 10000/10000 [15:07<00:00, 11.02it/s]"
     ]
    },
    {
     "name": "stdout",
     "output_type": "stream",
     "text": [
      "Fool Rate:0.7358\n",
      "Watermark L2:14.694947935742793\n",
      "Image L2:1.8748405552387237\n"
     ]
    },
    {
     "name": "stderr",
     "output_type": "stream",
     "text": [
      "\n"
     ]
    }
   ],
   "source": [
    "filename = '/home/hancy/code/adv_wm/atk_result/10181000_mobilenetv2_fgsm_wm_cifar.txt'\n",
    "attack_and_record(filename,model,imgs,wm_origin)\n",
    "check_result(filename)"
   ]
  },
  {
   "cell_type": "code",
   "execution_count": null,
   "metadata": {},
   "outputs": [],
   "source": []
  }
 ],
 "metadata": {
  "kernelspec": {
   "display_name": "Python 3.9.13 ('hancy')",
   "language": "python",
   "name": "python3"
  },
  "language_info": {
   "codemirror_mode": {
    "name": "ipython",
    "version": 3
   },
   "file_extension": ".py",
   "mimetype": "text/x-python",
   "name": "python",
   "nbconvert_exporter": "python",
   "pygments_lexer": "ipython3",
   "version": "3.9.13"
  },
  "orig_nbformat": 4,
  "vscode": {
   "interpreter": {
    "hash": "f230962487965b524392fa81469e3bf0947a6a0a62c5d831ecfebbaa4ceba3be"
   }
  }
 },
 "nbformat": 4,
 "nbformat_minor": 2
}
