{
 "cells": [
  {
   "cell_type": "code",
   "execution_count": 1,
   "metadata": {},
   "outputs": [],
   "source": [
    "import sys\n",
    "sys.path.append('..')\n",
    "from utils import *\n",
    "sys.path.append('../attacks/')\n",
    "from ifgm import *\n",
    "from ifgsm import *\n",
    "from torch import nn,norm\n",
    "import torch\n",
    "from torchvision import transforms, datasets\n",
    "import numpy as np\n",
    "from tqdm import tqdm\n",
    "import cv2\n",
    "import pandas as pd\n",
    "import numpy as np\n",
    "sys.path.append('../models/')\n",
    "from alexnet import *\n",
    "from densenet_201 import *\n",
    "from mobilenet_v2 import *\n",
    "from resnet_50 import *\n",
    "from vgg_19 import *"
   ]
  },
  {
   "cell_type": "code",
   "execution_count": 2,
   "metadata": {},
   "outputs": [],
   "source": [
    "imgs = datasets.ImageFolder('/home/hancy/dataset/imagenet3000/',transform=transforms.ToTensor())"
   ]
  },
  {
   "cell_type": "code",
   "execution_count": 3,
   "metadata": {},
   "outputs": [],
   "source": [
    "wm_origin = cv2.imread('../img/logo.jpg')\n",
    "wm_origin = cv2.cvtColor(wm_origin,cv2.COLOR_BGR2RGB)\n",
    "wm_origin = transforms.ToTensor()(wm_origin).cuda()"
   ]
  },
  {
   "cell_type": "code",
   "execution_count": 4,
   "metadata": {},
   "outputs": [],
   "source": [
    "def attack_and_record(filename: str,model: nn.Module, imgs:datasets, wm_origin: Tensor):\n",
    "    block_size = 8\n",
    "    alpha = 0.1\n",
    "    beta = 10/255\n",
    "    eps = 10/255\n",
    "    steps = 10\n",
    "    l1 = 0.01\n",
    "    l2 = 0.01\n",
    "    s_a = 0.0005\n",
    "    s_b = 0.0001\n",
    "    N = 20\n",
    "    beta_max = 20/255\n",
    "    with open(filename,'a') as file:\n",
    "        for i in tqdm(range(len(imgs)), desc='Processing'):\n",
    "            img = imgs[i][0].cuda()\n",
    "            img = addborder(img,block_size)\n",
    "            wm = transforms.Resize(img.size()[-2:])(wm_origin)\n",
    "            target = torch.tensor([imgs[i][1]]).cuda()\n",
    "            pred_label = model(img.unsqueeze(0)).argmax().item()\n",
    "            perd_img,wm_extracted,a_res,b_res = ifgsm_wm_opti(img,target,wm,model,alpha,beta,block_size,steps,eps,N,l1,l2,s_a,s_b,beta_max)\n",
    "            res = model(perd_img.unsqueeze(0))\n",
    "            perd_label = res.argmax().item()\n",
    "            wm_l2_norm = norm(wm_extracted-wm).item()\n",
    "            img_l2_norm = norm(perd_img-img).item()\n",
    "            file.write('{},{},{},{},{},{},{},{}\\n'.format(i,imgs[i][1],pred_label,perd_label,wm_l2_norm,img_l2_norm,a_res,b_res))"
   ]
  },
  {
   "cell_type": "code",
   "execution_count": 5,
   "metadata": {},
   "outputs": [],
   "source": [
    "def check_result(filename,direct_mode=False):\n",
    "    cols = ['index','label','pred_label','perd_label','wm_l2','img_l2','alpha','beta']\n",
    "    if(direct_mode):\n",
    "        cols = ['index','label','pred_label','perd_label','wm_l2','img_l2']\n",
    "    res = pd.read_csv(filename,names=cols,header=None)\n",
    "    print((res['label'] == res['pred_label']).sum())\n",
    "    print((res['label'] == res['perd_label']).sum())\n",
    "    print(res['wm_l2'].sum() / res['wm_l2'].count())\n",
    "    print(res['img_l2'].sum() / res['img_l2'].count())"
   ]
  },
  {
   "cell_type": "code",
   "execution_count": 6,
   "metadata": {},
   "outputs": [],
   "source": [
    "def attack_and_record_direct(filename: str,model: nn.Module, imgs:datasets, wm_origin: Tensor):\n",
    "    block_size = 8\n",
    "    alpha = 0.1\n",
    "    beta = 10/255\n",
    "    eps = 10/255\n",
    "    steps = 10\n",
    "    with open(filename,'a') as file:\n",
    "        for i in tqdm(range(len(imgs)), desc='Processing'):\n",
    "            img = imgs[i][0].cuda()\n",
    "            img = addborder(img,block_size)\n",
    "            wm = transforms.Resize(img.size()[-2:])(wm_origin)\n",
    "            target = torch.tensor([imgs[i][1]]).cuda()\n",
    "            pred_label = model(img.unsqueeze(0)).argmax().item()\n",
    "            perd_img = ifgsm_direct(img,target,wm,model,alpha,beta,block_size,steps,eps)\n",
    "            wm_extracted = extract_wm(img,perd_img,alpha,block_size)\n",
    "            res = model(perd_img.unsqueeze(0))\n",
    "            perd_label = res.argmax().item()\n",
    "            wm_l2_norm = norm(wm_extracted-wm).item()\n",
    "            img_l2_norm = norm(perd_img-img).item()\n",
    "            file.write('{},{},{},{},{},{}\\n'.format(i,imgs[i][1],pred_label,perd_label,wm_l2_norm,img_l2_norm))"
   ]
  },
  {
   "cell_type": "code",
   "execution_count": 7,
   "metadata": {},
   "outputs": [],
   "source": [
    "model = mobilenetv2_IN().cuda().eval()"
   ]
  },
  {
   "cell_type": "code",
   "execution_count": 8,
   "metadata": {},
   "outputs": [
    {
     "name": "stderr",
     "output_type": "stream",
     "text": [
      "Processing: 100%|██████████| 3000/3000 [38:31<00:00,  1.30it/s]  "
     ]
    },
    {
     "name": "stdout",
     "output_type": "stream",
     "text": [
      "2315\n",
      "2\n",
      "232.2930488736569\n",
      "27.653588512420654\n"
     ]
    },
    {
     "name": "stderr",
     "output_type": "stream",
     "text": [
      "\n"
     ]
    }
   ],
   "source": [
    "filename = '/home/hancy/code/adv_wm/atk_result/10121700_mobilenetv2_ifgsm_direct_imnet.txt'\n",
    "attack_and_record_direct(filename,model,imgs,wm_origin)\n",
    "check_result(filename)"
   ]
  },
  {
   "cell_type": "code",
   "execution_count": 9,
   "metadata": {},
   "outputs": [
    {
     "name": "stderr",
     "output_type": "stream",
     "text": [
      "Processing: 100%|██████████| 3000/3000 [3:17:23<00:00,  3.95s/it]   "
     ]
    },
    {
     "name": "stdout",
     "output_type": "stream",
     "text": [
      "2315\n",
      "24\n",
      "104.24258977817546\n",
      "13.19357812289397\n"
     ]
    },
    {
     "name": "stderr",
     "output_type": "stream",
     "text": [
      "\n"
     ]
    }
   ],
   "source": [
    "filename = '/home/hancy/code/adv_wm/atk_result/10121700_mobilenetv2_ifgsm_wm_imnet.txt'\n",
    "attack_and_record(filename,model,imgs,wm_origin)\n",
    "check_result(filename)"
   ]
  },
  {
   "cell_type": "code",
   "execution_count": null,
   "metadata": {},
   "outputs": [],
   "source": []
  }
 ],
 "metadata": {
  "kernelspec": {
   "display_name": "Python 3.9.13 ('hancy')",
   "language": "python",
   "name": "python3"
  },
  "language_info": {
   "codemirror_mode": {
    "name": "ipython",
    "version": 3
   },
   "file_extension": ".py",
   "mimetype": "text/x-python",
   "name": "python",
   "nbconvert_exporter": "python",
   "pygments_lexer": "ipython3",
   "version": "3.9.13"
  },
  "orig_nbformat": 4,
  "vscode": {
   "interpreter": {
    "hash": "f230962487965b524392fa81469e3bf0947a6a0a62c5d831ecfebbaa4ceba3be"
   }
  }
 },
 "nbformat": 4,
 "nbformat_minor": 2
}
