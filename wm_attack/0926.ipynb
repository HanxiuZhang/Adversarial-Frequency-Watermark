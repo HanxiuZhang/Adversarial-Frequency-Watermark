{
 "cells": [
  {
   "cell_type": "code",
   "execution_count": 1,
   "metadata": {},
   "outputs": [],
   "source": [
    "import sys\n",
    "sys.path.append('..')\n",
    "from utils import *\n",
    "sys.path.append('../attacks/')\n",
    "from fgsm import *\n",
    "from pgd import *\n",
    "sys.path.append('../models/')\n",
    "import torch\n",
    "from torchvision import transforms\n",
    "import numpy as np\n",
    "from torchvision import datasets\n",
    "from torch import norm\n",
    "from tqdm import tqdm\n",
    "import cv2\n",
    "from torch import nn"
   ]
  },
  {
   "cell_type": "code",
   "execution_count": 2,
   "metadata": {},
   "outputs": [],
   "source": [
    "imgs = datasets.ImageFolder('~/dataset/imagenet1000/val')"
   ]
  },
  {
   "cell_type": "code",
   "execution_count": 3,
   "metadata": {},
   "outputs": [],
   "source": [
    "wm = cv2.imread('../img/logo.jpg')\n",
    "wm = cv2.cvtColor(wm,cv2.COLOR_BGR2RGB)"
   ]
  },
  {
   "cell_type": "code",
   "execution_count": 4,
   "metadata": {},
   "outputs": [],
   "source": [
    "def attack_and_record(filename: str,model: nn.Module, imgs:datasets, wm: np.ndarray):\n",
    "    block_size = 8\n",
    "    alpha = 0.1\n",
    "    beta = 1/255\n",
    "    l1 = 0.001\n",
    "    l2 = 0.001\n",
    "    s_a = 0.000005\n",
    "    s_b = 0.00001\n",
    "    N = 10\n",
    "    beta_max = 3/255\n",
    "    with open(filename,'a') as file:\n",
    "        for i in tqdm(range(len(imgs)), desc='Processing'):\n",
    "            img = np.array(imgs[i][0])\n",
    "            img = addborder(img,block_size)\n",
    "            img = transforms.ToTensor()(img).cuda()\n",
    "            target = torch.tensor([imgs[i][1]]).cuda()\n",
    "            pred_label = model(img.unsqueeze(0)).argmax().item()\n",
    "            wm_to_embed = cv2.resize(wm,dsize=(img.shape[2],img.shape[1]),fx=1,fy=1,interpolation=cv2.INTER_LINEAR)\n",
    "            wm_to_embed = transforms.ToTensor()(wm_to_embed).cuda()\n",
    "            perd_img,wm_extracted = fgsm_wm_opti(img,target,wm_to_embed,model,alpha,beta,block_size,N,l1,l2,s_a,s_b,beta_max)\n",
    "            res = model(perd_img.unsqueeze(0))\n",
    "            perd_label = res.argmax().item()\n",
    "            l2_norm = norm(wm_extracted-wm_to_embed).item()\n",
    "            file.write('{},{},{},{},{}\\n'.format(i,imgs[i][1],pred_label,perd_label,l2_norm))\n"
   ]
  },
  {
   "cell_type": "code",
   "execution_count": 7,
   "metadata": {},
   "outputs": [
    {
     "name": "stderr",
     "output_type": "stream",
     "text": [
      "Processing: 100%|██████████| 3923/3923 [55:42<00:00,  1.17it/s]  \n"
     ]
    }
   ],
   "source": [
    "from mobilenet_v2 import *\n",
    "mv2_in = mobilenetv2_IN()\n",
    "mv2_in = mv2_in.cuda()\n",
    "mv2_in = mv2_in.eval()\n",
    "filename = '/home/hancy/code/adv_wm/atk_result/fgsm_wm_mobilenet_v2.txt'\n",
    "attack_and_record(filename,mv2_in,imgs,wm)"
   ]
  },
  {
   "cell_type": "code",
   "execution_count": null,
   "metadata": {},
   "outputs": [],
   "source": [
    "block_size = 8\n",
    "alpha = 0.1\n",
    "beta = 1/255\n",
    "l1 = 0.001\n",
    "l2 = 0.001\n",
    "s_a = 0.00005\n",
    "s_b = 0.0001\n",
    "N = 10\n",
    "beta_max = 3/255\n",
    "model = mv2_in"
   ]
  },
  {
   "cell_type": "code",
   "execution_count": null,
   "metadata": {},
   "outputs": [],
   "source": [
    "img = np.array(imgs[5][0])\n",
    "img = addborder(img,block_size)\n",
    "img = transforms.ToTensor()(img).cuda()\n",
    "target = torch.tensor([imgs[5][1]]).cuda()\n",
    "pred_label = model(img.unsqueeze(0)).argmax().item()\n",
    "wm_to_embed = cv2.resize(wm,dsize=(img.shape[2],img.shape[1]),fx=1,fy=1,interpolation=cv2.INTER_LINEAR)\n",
    "wm_to_embed = transforms.ToTensor()(wm_to_embed).cuda()\n",
    "perd_img,wm_extracted = fgsm_wm_opti(img,target,wm_to_embed,model,alpha,beta,block_size,N,l1,l2,s_a,s_b,beta_max)"
   ]
  },
  {
   "cell_type": "code",
   "execution_count": null,
   "metadata": {},
   "outputs": [],
   "source": [
    "import sys\n",
    "sys.path.append('../watermark/')"
   ]
  },
  {
   "cell_type": "code",
   "execution_count": null,
   "metadata": {},
   "outputs": [],
   "source": [
    "img = np.array(imgs[5][0])\n",
    "img = addborder(img,block_size)\n",
    "img = transforms.ToTensor()(img).cuda()\n",
    "target = torch.tensor([imgs[5][1]]).cuda()\n",
    "pred_label = model(img.unsqueeze(0)).argmax().item()\n",
    "wm_to_embed = cv2.resize(wm,dsize=(img.shape[2],img.shape[1]),fx=1,fy=1,interpolation=cv2.INTER_LINEAR)\n",
    "wm_to_embed = transforms.ToTensor()(wm_to_embed).cuda()\n",
    "wmed_img = embed_wm(img,wm_to_embed,alpha,block_size)\n",
    "img_dct = dct_tensor(img,block_size)\n",
    "wmed_dct = dct_tensor(wmed_img,block_size)"
   ]
  },
  {
   "cell_type": "code",
   "execution_count": null,
   "metadata": {},
   "outputs": [],
   "source": [
    "wm = ((wmed_dct-img_dct)/alpha)"
   ]
  },
  {
   "cell_type": "code",
   "execution_count": null,
   "metadata": {},
   "outputs": [],
   "source": [
    "cifar_testset = datasets.CIFAR10(root='/home/hancy/dataset/',train=False,transform=transforms.ToTensor(),download=True)"
   ]
  },
  {
   "cell_type": "code",
   "execution_count": null,
   "metadata": {},
   "outputs": [],
   "source": [
    "def attack_and_record(filename: str,model: nn.Module, imgs:datasets, wm: np.ndarray):\n",
    "    block_size = 8\n",
    "    alpha = 0.1\n",
    "    beta = 1/255\n",
    "    l1 = 0.001\n",
    "    l2 = 0.001\n",
    "    s_a = 0.000005\n",
    "    s_b = 0.00001\n",
    "    N = 10\n",
    "    beta_max = 3/255\n",
    "    with open(filename,'a') as file:\n",
    "        for i in tqdm(range(len(imgs)), desc='Processing'):\n",
    "            img = imgs[i][0]\n",
    "            img = img.cuda()\n",
    "            target = torch.tensor([imgs[i][1]]).cuda()\n",
    "            pred_label = model(img.unsqueeze(0)).argmax().item()\n",
    "            wm_to_embed = cv2.resize(wm,dsize=(img.shape[2],img.shape[1]),fx=1,fy=1,interpolation=cv2.INTER_LINEAR)\n",
    "            wm_to_embed = transforms.ToTensor()(wm_to_embed).cuda()\n",
    "            perd_img,wm_extracted = fgsm_wm_opti(img,target,wm_to_embed,model,alpha,beta,block_size,N,l1,l2,s_a,s_b,beta_max)\n",
    "            res = model(perd_img.unsqueeze(0))\n",
    "            perd_label = res.argmax().item()\n",
    "            l2_norm = norm(wm_extracted-wm_to_embed).item()\n",
    "            file.write('{},{},{},{},{}\\n'.format(i,imgs[i][1],pred_label,perd_label,l2_norm))"
   ]
  }
 ],
 "metadata": {
  "kernelspec": {
   "display_name": "Python 3.9.13 ('hancy')",
   "language": "python",
   "name": "python3"
  },
  "language_info": {
   "codemirror_mode": {
    "name": "ipython",
    "version": 3
   },
   "file_extension": ".py",
   "mimetype": "text/x-python",
   "name": "python",
   "nbconvert_exporter": "python",
   "pygments_lexer": "ipython3",
   "version": "3.9.13"
  },
  "orig_nbformat": 4,
  "vscode": {
   "interpreter": {
    "hash": "f230962487965b524392fa81469e3bf0947a6a0a62c5d831ecfebbaa4ceba3be"
   }
  }
 },
 "nbformat": 4,
 "nbformat_minor": 2
}
