{
 "cells": [
  {
   "cell_type": "code",
   "execution_count": null,
   "metadata": {},
   "outputs": [],
   "source": [
    "import sys\n",
    "sys.path.append('..')\n",
    "from utils import *\n",
    "sys.path.append('../attacks/')\n",
    "from fgsm import *\n",
    "sys.path.append('../models/')\n",
    "from resnet_50 import *"
   ]
  },
  {
   "cell_type": "code",
   "execution_count": null,
   "metadata": {},
   "outputs": [],
   "source": [
    "from torchvision import datasets\n",
    "imgs = datasets.ImageFolder('~/dataset/imagenet1000/val')"
   ]
  },
  {
   "cell_type": "code",
   "execution_count": null,
   "metadata": {},
   "outputs": [],
   "source": [
    "resnet50_in = resnet50_IN()\n",
    "resnet50_in = resnet50_in.cuda()\n",
    "resnet50_in = resnet50_in.eval()"
   ]
  },
  {
   "cell_type": "code",
   "execution_count": 9,
   "metadata": {},
   "outputs": [],
   "source": [
    "block_size = 8\n",
    "alpha = 0.1\n",
    "beta = 1/255"
   ]
  },
  {
   "cell_type": "code",
   "execution_count": 13,
   "metadata": {},
   "outputs": [],
   "source": [
    "import torch\n",
    "from torchvision import transforms\n",
    "import numpy as np"
   ]
  },
  {
   "cell_type": "code",
   "execution_count": 15,
   "metadata": {},
   "outputs": [],
   "source": [
    "import cv2\n",
    "wm = cv2.imread('../img/logo.jpg')\n",
    "wm = cv2.cvtColor(wm,cv2.COLOR_BGR2RGB)"
   ]
  },
  {
   "cell_type": "code",
   "execution_count": 21,
   "metadata": {},
   "outputs": [
    {
     "name": "stderr",
     "output_type": "stream",
     "text": [
      "Processing 94:   0%|          | 3/3923 [00:00<09:44,  6.71it/s]"
     ]
    },
    {
     "name": "stdout",
     "output_type": "stream",
     "text": [
      "0 predicts to be 758\n",
      "0 predicts to be 391\n",
      "0 predicts to be 390\n"
     ]
    },
    {
     "name": "stderr",
     "output_type": "stream",
     "text": [
      "Processing 94:   0%|          | 5/3923 [00:00<07:16,  8.98it/s]"
     ]
    },
    {
     "name": "stdout",
     "output_type": "stream",
     "text": [
      "1 predicts to be 393\n",
      "1 predicts to be 794\n",
      "1 predicts to be 1\n"
     ]
    },
    {
     "name": "stderr",
     "output_type": "stream",
     "text": [
      "Processing 94:   0%|          | 9/3923 [00:00<06:02, 10.79it/s]"
     ]
    },
    {
     "name": "stdout",
     "output_type": "stream",
     "text": [
      "2 predicts to be 149\n",
      "2 predicts to be 5\n",
      "2 predicts to be 3\n"
     ]
    },
    {
     "name": "stderr",
     "output_type": "stream",
     "text": [
      "Processing 94:   0%|          | 11/3923 [00:01<06:00, 10.84it/s]"
     ]
    },
    {
     "name": "stdout",
     "output_type": "stream",
     "text": [
      "2 predicts to be 879\n",
      "2 predicts to be 360\n",
      "3 predicts to be 33\n"
     ]
    },
    {
     "name": "stderr",
     "output_type": "stream",
     "text": [
      "Processing 94:   0%|          | 15/3923 [00:01<05:29, 11.84it/s]"
     ]
    },
    {
     "name": "stdout",
     "output_type": "stream",
     "text": [
      "3 predicts to be 983\n",
      "3 predicts to be 4\n",
      "4 predicts to be 391\n"
     ]
    },
    {
     "name": "stderr",
     "output_type": "stream",
     "text": [
      "Processing 94:   0%|          | 17/3923 [00:01<05:21, 12.16it/s]"
     ]
    },
    {
     "name": "stdout",
     "output_type": "stream",
     "text": [
      "4 predicts to be 3\n",
      "4 predicts to be 3\n",
      "4 predicts to be 983\n"
     ]
    },
    {
     "name": "stderr",
     "output_type": "stream",
     "text": [
      "Processing 94:   1%|          | 21/3923 [00:01<05:23, 12.05it/s]"
     ]
    },
    {
     "name": "stdout",
     "output_type": "stream",
     "text": [
      "4 predicts to be 2\n",
      "5 predicts to be 5\n",
      "5 predicts to be 3\n"
     ]
    },
    {
     "name": "stderr",
     "output_type": "stream",
     "text": [
      "Processing 94:   1%|          | 23/3923 [00:03<14:26,  4.50it/s]"
     ]
    },
    {
     "name": "stdout",
     "output_type": "stream",
     "text": [
      "5 predicts to be 973\n",
      "6 predicts to be 5\n",
      "6 predicts to be 5\n"
     ]
    },
    {
     "name": "stderr",
     "output_type": "stream",
     "text": [
      "Processing 94:   1%|          | 27/3923 [00:03<09:53,  6.56it/s]"
     ]
    },
    {
     "name": "stdout",
     "output_type": "stream",
     "text": [
      "6 predicts to be 971\n",
      "7 predicts to be 80\n",
      "7 predicts to be 8\n"
     ]
    },
    {
     "name": "stderr",
     "output_type": "stream",
     "text": [
      "Processing 94:   1%|          | 29/3923 [00:03<08:36,  7.53it/s]"
     ]
    },
    {
     "name": "stdout",
     "output_type": "stream",
     "text": [
      "7 predicts to be 8\n",
      "8 predicts to be 7\n",
      "8 predicts to be 87\n"
     ]
    },
    {
     "name": "stderr",
     "output_type": "stream",
     "text": [
      "Processing 94:   1%|          | 33/3923 [00:03<07:12,  9.00it/s]"
     ]
    },
    {
     "name": "stdout",
     "output_type": "stream",
     "text": [
      "8 predicts to be 7\n",
      "9 predicts to be 23\n",
      "9 predicts to be 334\n"
     ]
    },
    {
     "name": "stderr",
     "output_type": "stream",
     "text": [
      "Processing 94:   1%|          | 35/3923 [00:04<06:52,  9.44it/s]"
     ]
    },
    {
     "name": "stdout",
     "output_type": "stream",
     "text": [
      "9 predicts to be 955\n",
      "10 predicts to be 16\n",
      "10 predicts to be 11\n"
     ]
    },
    {
     "name": "stderr",
     "output_type": "stream",
     "text": [
      "Processing 94:   1%|          | 39/3923 [00:04<06:12, 10.42it/s]"
     ]
    },
    {
     "name": "stdout",
     "output_type": "stream",
     "text": [
      "10 predicts to be 58\n",
      "10 predicts to be 13\n",
      "11 predicts to be 11\n"
     ]
    },
    {
     "name": "stderr",
     "output_type": "stream",
     "text": [
      "Processing 94:   1%|          | 41/3923 [00:04<07:25,  8.72it/s]"
     ]
    },
    {
     "name": "stdout",
     "output_type": "stream",
     "text": [
      "11 predicts to be 784\n",
      "11 predicts to be 10\n"
     ]
    },
    {
     "name": "stderr",
     "output_type": "stream",
     "text": [
      "\n"
     ]
    },
    {
     "ename": "KeyboardInterrupt",
     "evalue": "",
     "output_type": "error",
     "traceback": [
      "\u001b[0;31m---------------------------------------------------------------------------\u001b[0m",
      "\u001b[0;31mKeyboardInterrupt\u001b[0m                         Traceback (most recent call last)",
      "\u001b[1;32m/home/hancy/code/adv_wm/wm_attack/0926.ipynb Cell 7\u001b[0m in \u001b[0;36m<cell line: 2>\u001b[0;34m()\u001b[0m\n\u001b[1;32m      <a href='vscode-notebook-cell://wsl%2Bubuntu/home/hancy/code/adv_wm/wm_attack/0926.ipynb#W3sdnNjb2RlLXJlbW90ZQ%3D%3D?line=6'>7</a>\u001b[0m wm_to_embed \u001b[39m=\u001b[39m cv2\u001b[39m.\u001b[39mresize(wm,dsize\u001b[39m=\u001b[39m(img\u001b[39m.\u001b[39mshape[\u001b[39m2\u001b[39m],img\u001b[39m.\u001b[39mshape[\u001b[39m1\u001b[39m]),fx\u001b[39m=\u001b[39m\u001b[39m1\u001b[39m,fy\u001b[39m=\u001b[39m\u001b[39m1\u001b[39m,interpolation\u001b[39m=\u001b[39mcv2\u001b[39m.\u001b[39mINTER_LINEAR)\n\u001b[1;32m      <a href='vscode-notebook-cell://wsl%2Bubuntu/home/hancy/code/adv_wm/wm_attack/0926.ipynb#W3sdnNjb2RlLXJlbW90ZQ%3D%3D?line=7'>8</a>\u001b[0m wm_to_embed \u001b[39m=\u001b[39m transforms\u001b[39m.\u001b[39mToTensor()(wm_to_embed)\u001b[39m.\u001b[39mcuda()\n\u001b[0;32m----> <a href='vscode-notebook-cell://wsl%2Bubuntu/home/hancy/code/adv_wm/wm_attack/0926.ipynb#W3sdnNjb2RlLXJlbW90ZQ%3D%3D?line=8'>9</a>\u001b[0m perd_img \u001b[39m=\u001b[39m fgsm_direct(img,target,wm_to_embed,resnet50_in,alpha,beta,block_size)\n\u001b[1;32m     <a href='vscode-notebook-cell://wsl%2Bubuntu/home/hancy/code/adv_wm/wm_attack/0926.ipynb#W3sdnNjb2RlLXJlbW90ZQ%3D%3D?line=9'>10</a>\u001b[0m res \u001b[39m=\u001b[39m resnet50_in(perd_img\u001b[39m.\u001b[39munsqueeze(\u001b[39m0\u001b[39m))\n\u001b[1;32m     <a href='vscode-notebook-cell://wsl%2Bubuntu/home/hancy/code/adv_wm/wm_attack/0926.ipynb#W3sdnNjb2RlLXJlbW90ZQ%3D%3D?line=10'>11</a>\u001b[0m predict \u001b[39m=\u001b[39m res\u001b[39m.\u001b[39margmax()\u001b[39m.\u001b[39mitem()\n",
      "File \u001b[0;32m~/code/adv_wm/wm_attack/../attacks/fgsm.py:17\u001b[0m, in \u001b[0;36mfgsm_direct\u001b[0;34m(img, label, wm, model, alpha, beta, block_size)\u001b[0m\n\u001b[1;32m     15\u001b[0m outputs \u001b[39m=\u001b[39m model(wmed_img)\n\u001b[1;32m     16\u001b[0m cost \u001b[39m=\u001b[39m loss(outputs,label)\n\u001b[0;32m---> 17\u001b[0m grad \u001b[39m=\u001b[39m torch\u001b[39m.\u001b[39mautograd\u001b[39m.\u001b[39mgrad(cost,wmed_img,retain_graph\u001b[39m=\u001b[39m\u001b[39mFalse\u001b[39;00m,create_graph\u001b[39m=\u001b[39m\u001b[39mFalse\u001b[39;00m)[\u001b[39m0\u001b[39m]\n\u001b[1;32m     18\u001b[0m adv_image \u001b[39m=\u001b[39m wmed_img \u001b[39m+\u001b[39m beta\u001b[39m*\u001b[39mgrad\u001b[39m.\u001b[39msign()\n\u001b[1;32m     19\u001b[0m adv_image \u001b[39m=\u001b[39m torch\u001b[39m.\u001b[39mclamp(adv_image,\u001b[39mmin\u001b[39m\u001b[39m=\u001b[39m\u001b[39m0\u001b[39m,\u001b[39mmax\u001b[39m\u001b[39m=\u001b[39m\u001b[39m1\u001b[39m)\u001b[39m.\u001b[39msqueeze(\u001b[39m0\u001b[39m)\n",
      "File \u001b[0;32m~/download/yes/envs/hancy/lib/python3.9/site-packages/torch/autograd/__init__.py:276\u001b[0m, in \u001b[0;36mgrad\u001b[0;34m(outputs, inputs, grad_outputs, retain_graph, create_graph, only_inputs, allow_unused, is_grads_batched)\u001b[0m\n\u001b[1;32m    274\u001b[0m     \u001b[39mreturn\u001b[39;00m _vmap_internals\u001b[39m.\u001b[39m_vmap(vjp, \u001b[39m0\u001b[39m, \u001b[39m0\u001b[39m, allow_none_pass_through\u001b[39m=\u001b[39m\u001b[39mTrue\u001b[39;00m)(grad_outputs_)\n\u001b[1;32m    275\u001b[0m \u001b[39melse\u001b[39;00m:\n\u001b[0;32m--> 276\u001b[0m     \u001b[39mreturn\u001b[39;00m Variable\u001b[39m.\u001b[39;49m_execution_engine\u001b[39m.\u001b[39;49mrun_backward(  \u001b[39m# Calls into the C++ engine to run the backward pass\u001b[39;49;00m\n\u001b[1;32m    277\u001b[0m         t_outputs, grad_outputs_, retain_graph, create_graph, t_inputs,\n\u001b[1;32m    278\u001b[0m         allow_unused, accumulate_grad\u001b[39m=\u001b[39;49m\u001b[39mFalse\u001b[39;49;00m)\n",
      "\u001b[0;31mKeyboardInterrupt\u001b[0m: "
     ]
    }
   ],
   "source": [
    "from tqdm import tqdm\n",
    "for i in tqdm(range(len(imgs)), desc='Processing {}'.format(i)):\n",
    "    img = np.array(imgs[i][0])\n",
    "    img = addborder(img,block_size)\n",
    "    img = transforms.ToTensor()(img).cuda()\n",
    "    target = torch.tensor([imgs[i][1]]).cuda()\n",
    "    wm_to_embed = cv2.resize(wm,dsize=(img.shape[2],img.shape[1]),fx=1,fy=1,interpolation=cv2.INTER_LINEAR)\n",
    "    wm_to_embed = transforms.ToTensor()(wm_to_embed).cuda()\n",
    "    perd_img = fgsm_direct(img,target,wm_to_embed,resnet50_in,alpha,beta,block_size)\n",
    "    wm_extracted = extract_wm(img,perd_img,alpha,block_size)\n",
    "\n",
    "\n",
    "    res = resnet50_in(perd_img.unsqueeze(0))\n",
    "    predict = res.argmax().item()\n",
    "    print('{} predicts to be {}'.format(target.item(),predict))\n",
    "\n",
    "\n",
    "\n"
   ]
  },
  {
   "cell_type": "code",
   "execution_count": null,
   "metadata": {},
   "outputs": [],
   "source": []
  }
 ],
 "metadata": {
  "kernelspec": {
   "display_name": "Python 3.9.13 ('hancy')",
   "language": "python",
   "name": "python3"
  },
  "language_info": {
   "codemirror_mode": {
    "name": "ipython",
    "version": 3
   },
   "file_extension": ".py",
   "mimetype": "text/x-python",
   "name": "python",
   "nbconvert_exporter": "python",
   "pygments_lexer": "ipython3",
   "version": "3.9.13"
  },
  "orig_nbformat": 4,
  "vscode": {
   "interpreter": {
    "hash": "f230962487965b524392fa81469e3bf0947a6a0a62c5d831ecfebbaa4ceba3be"
   }
  }
 },
 "nbformat": 4,
 "nbformat_minor": 2
}
