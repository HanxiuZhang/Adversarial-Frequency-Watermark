{
 "cells": [
  {
   "cell_type": "code",
   "execution_count": 1,
   "metadata": {},
   "outputs": [],
   "source": [
    "import sys\n",
    "sys.path.append('..')\n",
    "from utils import *\n",
    "sys.path.append('../attacks/')\n",
    "from fgsm import *\n",
    "from pgd import *\n",
    "sys.path.append('../models/')\n",
    "from resnet_50 import *"
   ]
  },
  {
   "cell_type": "code",
   "execution_count": 2,
   "metadata": {},
   "outputs": [],
   "source": [
    "from torchvision import datasets\n",
    "imgs = datasets.ImageFolder('~/dataset/imagenet1000/val')"
   ]
  },
  {
   "cell_type": "code",
   "execution_count": 3,
   "metadata": {},
   "outputs": [],
   "source": [
    "resnet50_in = resnet50_IN()\n",
    "resnet50_in = resnet50_in.cuda()\n",
    "resnet50_in = resnet50_in.eval()"
   ]
  },
  {
   "cell_type": "code",
   "execution_count": 4,
   "metadata": {},
   "outputs": [],
   "source": [
    "block_size = 8\n",
    "alpha = 0.1\n",
    "beta = 1/255"
   ]
  },
  {
   "cell_type": "code",
   "execution_count": 5,
   "metadata": {},
   "outputs": [],
   "source": [
    "import torch\n",
    "from torchvision import transforms\n",
    "import numpy as np"
   ]
  },
  {
   "cell_type": "code",
   "execution_count": 6,
   "metadata": {},
   "outputs": [],
   "source": [
    "import cv2\n",
    "wm = cv2.imread('../img/logo.jpg')\n",
    "wm = cv2.cvtColor(wm,cv2.COLOR_BGR2RGB)"
   ]
  },
  {
   "cell_type": "code",
   "execution_count": 7,
   "metadata": {},
   "outputs": [],
   "source": [
    "from torch import norm\n",
    "from tqdm import tqdm"
   ]
  },
  {
   "cell_type": "code",
   "execution_count": 9,
   "metadata": {},
   "outputs": [],
   "source": [
    "from torch import nn\n",
    "def attack_and_record(filename: str,model: nn.Module, imgs:datasets, wm: np.ndarray):\n",
    "    block_size = 8\n",
    "    alpha = 0.1\n",
    "    beta = 1/255\n",
    "    l1 = 0.001\n",
    "    l2 = 0.001\n",
    "    s_a = 0.000005\n",
    "    s_b = 0.00001\n",
    "    N=10\n",
    "    with open(filename,'a') as file:\n",
    "        for i in tqdm(range(len(imgs)), desc='Processing'):\n",
    "            img = np.array(imgs[i][0])\n",
    "            img = addborder(img,block_size)\n",
    "            img = transforms.ToTensor()(img).cuda()\n",
    "            target = torch.tensor([imgs[i][1]]).cuda()\n",
    "            pred_label = model(img.unsqueeze(0)).argmax().item()\n",
    "            wm_to_embed = cv2.resize(wm,dsize=(img.shape[2],img.shape[1]),fx=1,fy=1,interpolation=cv2.INTER_LINEAR)\n",
    "            wm_to_embed = transforms.ToTensor()(wm_to_embed).cuda()\n",
    "            perd_img = fgsm_direct(img,target,wm_to_embed,model,alpha,beta,block_size)\n",
    "            wm_extracted = extract_wm(img,perd_img,alpha,block_size)\n",
    "            res = model(perd_img.unsqueeze(0))\n",
    "            perd_label = res.argmax().item()\n",
    "            l2_norm = norm(wm_extracted-wm_to_embed).item()\n",
    "            file.write('{},{},{},{},{}\\n'.format(i,imgs[i][1],pred_label,perd_label,l2_norm))\n"
   ]
  },
  {
   "cell_type": "code",
   "execution_count": 11,
   "metadata": {},
   "outputs": [
    {
     "name": "stderr",
     "output_type": "stream",
     "text": [
      "Processing:  59%|█████▉    | 2309/3923 [09:31<06:10,  4.35it/s]"
     ]
    }
   ],
   "source": [
    "from densenet_201 import *\n",
    "ds_in = densenet201_IN()\n",
    "ds_in = ds_in.cuda()\n",
    "ds_in = ds_in.eval()\n",
    "filename = '/home/hancy/code/adv_wm/record/220927_fgsm_direct_densenet_201.txt'\n",
    "attack_and_record(filename,ds_in,imgs,wm)"
   ]
  },
  {
   "cell_type": "code",
   "execution_count": null,
   "metadata": {},
   "outputs": [],
   "source": [
    "from mobilenet_v2 import *\n",
    "mv2_in = mobilenetv2_IN()\n",
    "mv2_in = mv2_in.cuda()\n",
    "mv2_in = mv2_in.eval()\n",
    "filename = '/home/hancy/code/adv_wm/record/220927_fgsm_direct_mobilenet_v2.txt'\n",
    "attack_and_record(filename,mv2_in,imgs,wm)"
   ]
  },
  {
   "cell_type": "code",
   "execution_count": null,
   "metadata": {},
   "outputs": [],
   "source": [
    "filename = '/home/hancy/code/adv_wm/record/220926_fgsm_direct_resnet50.txt'\n",
    "with open(filename,'a') as file:\n",
    "    for i in tqdm(range(len(imgs)), desc='Processing'):\n",
    "        img = np.array(imgs[i][0])\n",
    "        img = addborder(img,block_size)\n",
    "        img = transforms.ToTensor()(img).cuda()\n",
    "        target = torch.tensor([imgs[i][1]]).cuda()\n",
    "        pred_label = resnet50_in(img.unsqueeze(0)).argmax().item()\n",
    "        wm_to_embed = cv2.resize(wm,dsize=(img.shape[2],img.shape[1]),fx=1,fy=1,interpolation=cv2.INTER_LINEAR)\n",
    "        wm_to_embed = transforms.ToTensor()(wm_to_embed).cuda()\n",
    "        perd_img = fgsm_direct(img,target,wm_to_embed,resnet50_in,alpha,beta,block_size)\n",
    "        wm_extracted = extract_wm(img,perd_img,alpha,block_size)\n",
    "        res = resnet50_in(perd_img.unsqueeze(0))\n",
    "        perd_label = res.argmax().item()\n",
    "        l2_norm = norm(wm_extracted-wm_to_embed).item()\n",
    "        file.write('{},{},{},{},{}\\n'.format(i,imgs[i][1],pred_label,perd_label,l2_norm))"
   ]
  },
  {
   "cell_type": "code",
   "execution_count": null,
   "metadata": {},
   "outputs": [],
   "source": [
    "filename = '/home/hancy/code/adv_wm/record/220926_fgsm_wm_resnet50.txt'\n",
    "l1 = 0.001\n",
    "l2 = 0.001\n",
    "s_a = 0.000005\n",
    "s_b = 0.00001\n",
    "N=10"
   ]
  },
  {
   "cell_type": "code",
   "execution_count": null,
   "metadata": {},
   "outputs": [],
   "source": [
    "from tqdm import tqdm\n",
    "with open(filename,'a') as file:\n",
    "    for i in tqdm(range(len(imgs)), desc='Processing'):\n",
    "        img = np.array(imgs[i][0])\n",
    "        img = addborder(img,block_size)\n",
    "        img = transforms.ToTensor()(img).cuda()\n",
    "        target = torch.tensor([imgs[i][1]]).cuda()\n",
    "        pred_label = resnet50_in(img.unsqueeze(0)).argmax().item()\n",
    "        wm_to_embed = cv2.resize(wm,dsize=(img.shape[2],img.shape[1]),fx=1,fy=1,interpolation=cv2.INTER_LINEAR)\n",
    "        wm_to_embed = transforms.ToTensor()(wm_to_embed).cuda()\n",
    "        perd_img = fgsm_wm_opti(img,target,wm_to_embed,resnet50_in,alpha,beta,block_size,N,l1,l2,s_a,s_b)\n",
    "        wm_extracted = extract_wm(img,perd_img,alpha,block_size)\n",
    "        res = resnet50_in(perd_img.unsqueeze(0))\n",
    "        perd_label = res.argmax().item()\n",
    "        l2_norm = norm(wm_extracted-wm_to_embed).item()\n",
    "        file.write('{},{},{},{},{}\\n'.format(i,imgs[i][1],pred_label,perd_label,l2_norm))"
   ]
  },
  {
   "cell_type": "code",
   "execution_count": null,
   "metadata": {},
   "outputs": [],
   "source": [
    "pltshow(wm_extracted)"
   ]
  },
  {
   "cell_type": "code",
   "execution_count": null,
   "metadata": {},
   "outputs": [],
   "source": [
    "filename = '/home/hancy/code/adv_wm/record/220927_pgd_direct_resnet50.txt'\n",
    "with open(filename,'a') as file:\n",
    "    for i in tqdm(range(len(imgs)), desc='Processing'):\n",
    "        img = np.array(imgs[i][0])\n",
    "        img = addborder(img,block_size)\n",
    "        img = transforms.ToTensor()(img).cuda()\n",
    "        target = torch.tensor([imgs[i][1]]).cuda()\n",
    "        pred_label = resnet50_in(img.unsqueeze(0)).argmax().item()\n",
    "        wm_to_embed = cv2.resize(wm,dsize=(img.shape[2],img.shape[1]),fx=1,fy=1,interpolation=cv2.INTER_LINEAR)\n",
    "        wm_to_embed = transforms.ToTensor()(wm_to_embed).cuda()\n",
    "        perd_img = pgd_direct(img,target,wm_to_embed,resnet50_in,alpha,beta,block_size)\n",
    "        wm_extracted = extract_wm(img,perd_img,alpha,block_size)\n",
    "        res = resnet50_in(perd_img.unsqueeze(0))\n",
    "        perd_label = res.argmax().item()\n",
    "        l2_norm = norm(wm_extracted-wm_to_embed).item()\n",
    "        file.write('{},{},{},{},{}\\n'.format(i,imgs[i][1],pred_label,perd_label,l2_norm))"
   ]
  },
  {
   "cell_type": "code",
   "execution_count": null,
   "metadata": {},
   "outputs": [],
   "source": [
    "filename = '/home/hancy/code/adv_wm/record/220927_direct_embed.txt'\n",
    "with open(filename,'a') as file:\n",
    "    for i in tqdm(range(len(imgs)), desc='Processing'):\n",
    "        img = np.array(imgs[i][0])\n",
    "        img = addborder(img,block_size)\n",
    "        img = transforms.ToTensor()(img).cuda()\n",
    "        wm_to_embed = cv2.resize(wm,dsize=(img.shape[2],img.shape[1]),fx=1,fy=1,interpolation=cv2.INTER_LINEAR)\n",
    "        wm_to_embed = transforms.ToTensor()(wm_to_embed).cuda()\n",
    "        wmed_img = embed_wm(img,wm_to_embed,alpha,block_size)\n",
    "        wm_extracted = extract_wm(img,wmed_img,alpha,block_size)\n",
    "        l2_norm = norm(wm_extracted-wm_to_embed).item()\n",
    "        file.write('{},{}\\n'.format(i,l2_norm))"
   ]
  },
  {
   "cell_type": "code",
   "execution_count": null,
   "metadata": {},
   "outputs": [],
   "source": [
    "from alexnet import *\n",
    "alex_in = alexnet_in()\n",
    "alex_in = alex_in.cuda()\n",
    "alex_in = alex_in.eval()\n",
    "filename = '/home/hancy/code/adv_wm/record/220927_fgsm_direct_alexnet.txt'\n",
    "attack_and_record(filename,alex_in,imgs,wm)"
   ]
  },
  {
   "cell_type": "code",
   "execution_count": null,
   "metadata": {},
   "outputs": [],
   "source": [
    "img = np.array(imgs[0][0])\n",
    "img = addborder(img)\n",
    "img = transforms.ToTensor()(img).cuda()"
   ]
  },
  {
   "cell_type": "code",
   "execution_count": null,
   "metadata": {},
   "outputs": [],
   "source": [
    "res = ds_in(img.unsqueeze(0))"
   ]
  },
  {
   "cell_type": "code",
   "execution_count": null,
   "metadata": {},
   "outputs": [],
   "source": []
  }
 ],
 "metadata": {
  "kernelspec": {
   "display_name": "Python 3.9.13 ('hancy')",
   "language": "python",
   "name": "python3"
  },
  "language_info": {
   "codemirror_mode": {
    "name": "ipython",
    "version": 3
   },
   "file_extension": ".py",
   "mimetype": "text/x-python",
   "name": "python",
   "nbconvert_exporter": "python",
   "pygments_lexer": "ipython3",
   "version": "3.9.13"
  },
  "orig_nbformat": 4,
  "vscode": {
   "interpreter": {
    "hash": "f230962487965b524392fa81469e3bf0947a6a0a62c5d831ecfebbaa4ceba3be"
   }
  }
 },
 "nbformat": 4,
 "nbformat_minor": 2
}
