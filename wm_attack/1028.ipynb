{
 "cells": [
  {
   "cell_type": "code",
   "execution_count": 3,
   "metadata": {},
   "outputs": [],
   "source": [
    "import sys\n",
    "sys.path.append('..')\n",
    "from utils import *\n",
    "from torch import nn,norm\n",
    "import torch\n",
    "from torchvision import transforms, datasets\n",
    "from tqdm import tqdm\n",
    "import cv2\n",
    "import pandas as pd\n",
    "from atk_utils import *"
   ]
  },
  {
   "cell_type": "code",
   "execution_count": 16,
   "metadata": {},
   "outputs": [],
   "source": [
    "vgg19 = get_model('vgg19')\n",
    "resnet50 = get_model('resnet50')\n",
    "alexnet = get_model('alexnet')\n",
    "densenet201 = get_model('densenet201')\n",
    "mobilenetv2 = get_model('mobilenetv2')"
   ]
  },
  {
   "cell_type": "code",
   "execution_count": 17,
   "metadata": {},
   "outputs": [],
   "source": [
    "def attack_and_record(filename: str,model_origin: nn.Module, model_list: list[nn.Module], imgs:datasets, wm_origin: Tensor,  # type: ignore\n",
    "                        block_size: int=8, alpha: float=0.1, beta: float=10/255, atk_name: str='fgsm_opt',\n",
    "                        N: int=20, l1: float=0.01, l2:float=0.01, s_a:float=0.0005, s_b:float=0.0001,\n",
    "                        beta_max: float=20/255, steps: int=10, eps:float=10/255):\n",
    "    with open(filename,'a') as file:\n",
    "        for i in tqdm(range(len(imgs)), desc='Processing'):  # type: ignore\n",
    "            img = imgs[i][0].cuda()  # type: ignore\n",
    "            img = addborder(img,block_size)\n",
    "            wm = transforms.Resize(img.size()[-2:])(wm_origin)  # type: ignore\n",
    "            pred_label = model_origin(img.unsqueeze(0)).argmax().item()\n",
    "            label = torch.tensor([pred_label]).cuda()\n",
    "            atk_method = get_attack_method(atk_name)\n",
    "            perd_img,wm_extracted,a_res,b_res = \\\n",
    "                atk_method(img,label,wm,model_origin,alpha,beta,block_size,N=N,l1=l1,l2=l2,s_a=s_a,s_b=s_b,beta_max=beta_max,steps=steps,eps=eps)\n",
    "            res_list = []\n",
    "            for model in model_list:\n",
    "                res_list.append((model(img.unsqueeze(0))).argmax().item())  # type: ignore\n",
    "                res_list.append((model(perd_img.unsqueeze(0))).argmax().item())  # type: ignore\n",
    "            file.write('{},{},{},{},{},{},{},{},{},{},{}\\n'.format(i,*res_list))  # type: ignore"
   ]
  },
  {
   "cell_type": "code",
   "execution_count": 18,
   "metadata": {},
   "outputs": [
    {
     "name": "stderr",
     "output_type": "stream",
     "text": [
      "Processing:   0%|          | 5/5000 [00:05<1:25:00,  1.02s/it]\n"
     ]
    },
    {
     "ename": "KeyboardInterrupt",
     "evalue": "",
     "output_type": "error",
     "traceback": [
      "\u001b[0;31m---------------------------------------------------------------------------\u001b[0m",
      "\u001b[0;31mKeyboardInterrupt\u001b[0m                         Traceback (most recent call last)",
      "\u001b[1;32m/home/hancy/code/adv_wm/wm_attack/1028.ipynb Cell 4\u001b[0m in \u001b[0;36m<cell line: 16>\u001b[0;34m()\u001b[0m\n\u001b[1;32m     <a href='vscode-notebook-cell://ssh-remote%2B172.23.135.240/home/hancy/code/adv_wm/wm_attack/1028.ipynb#X11sdnNjb2RlLXJlbW90ZQ%3D%3D?line=16'>17</a>\u001b[0m model \u001b[39m=\u001b[39m model_list[index]\n\u001b[1;32m     <a href='vscode-notebook-cell://ssh-remote%2B172.23.135.240/home/hancy/code/adv_wm/wm_attack/1028.ipynb#X11sdnNjb2RlLXJlbW90ZQ%3D%3D?line=17'>18</a>\u001b[0m filename \u001b[39m=\u001b[39m \u001b[39m\"\u001b[39m\u001b[39m../transfer_res/model_\u001b[39m\u001b[39m{}\u001b[39;00m\u001b[39m_atk_\u001b[39m\u001b[39m{}\u001b[39;00m\u001b[39m_transfer.txt\u001b[39m\u001b[39m\"\u001b[39m\u001b[39m.\u001b[39mformat(model_name,atk_name,alpha,beta,N,l1,l2,s_a,s_b,beta_max)\n\u001b[0;32m---> <a href='vscode-notebook-cell://ssh-remote%2B172.23.135.240/home/hancy/code/adv_wm/wm_attack/1028.ipynb#X11sdnNjb2RlLXJlbW90ZQ%3D%3D?line=18'>19</a>\u001b[0m attack_and_record(filename,model,model_list,imgs,wm_origin,alpha\u001b[39m=\u001b[39;49malpha,beta\u001b[39m=\u001b[39;49mbeta,atk_name\u001b[39m=\u001b[39;49matk_name,  \u001b[39m# type: ignore\u001b[39;49;00m\n\u001b[1;32m     <a href='vscode-notebook-cell://ssh-remote%2B172.23.135.240/home/hancy/code/adv_wm/wm_attack/1028.ipynb#X11sdnNjb2RlLXJlbW90ZQ%3D%3D?line=19'>20</a>\u001b[0m                     N\u001b[39m=\u001b[39;49mN,l1\u001b[39m=\u001b[39;49ml1,l2\u001b[39m=\u001b[39;49ml2,s_a\u001b[39m=\u001b[39;49ms_a,s_b\u001b[39m=\u001b[39;49ms_b,beta_max\u001b[39m=\u001b[39;49mbeta_max)\n\u001b[1;32m     <a href='vscode-notebook-cell://ssh-remote%2B172.23.135.240/home/hancy/code/adv_wm/wm_attack/1028.ipynb#X11sdnNjb2RlLXJlbW90ZQ%3D%3D?line=20'>21</a>\u001b[0m index \u001b[39m+\u001b[39m\u001b[39m=\u001b[39m \u001b[39m1\u001b[39m\n",
      "\u001b[1;32m/home/hancy/code/adv_wm/wm_attack/1028.ipynb Cell 4\u001b[0m in \u001b[0;36mattack_and_record\u001b[0;34m(filename, model_origin, model_list, imgs, wm_origin, block_size, alpha, beta, atk_name, N, l1, l2, s_a, s_b, beta_max, steps, eps)\u001b[0m\n\u001b[1;32m     <a href='vscode-notebook-cell://ssh-remote%2B172.23.135.240/home/hancy/code/adv_wm/wm_attack/1028.ipynb#X11sdnNjb2RlLXJlbW90ZQ%3D%3D?line=10'>11</a>\u001b[0m label \u001b[39m=\u001b[39m torch\u001b[39m.\u001b[39mtensor([pred_label])\u001b[39m.\u001b[39mcuda()\n\u001b[1;32m     <a href='vscode-notebook-cell://ssh-remote%2B172.23.135.240/home/hancy/code/adv_wm/wm_attack/1028.ipynb#X11sdnNjb2RlLXJlbW90ZQ%3D%3D?line=11'>12</a>\u001b[0m atk_method \u001b[39m=\u001b[39m get_attack_method(atk_name)\n\u001b[1;32m     <a href='vscode-notebook-cell://ssh-remote%2B172.23.135.240/home/hancy/code/adv_wm/wm_attack/1028.ipynb#X11sdnNjb2RlLXJlbW90ZQ%3D%3D?line=12'>13</a>\u001b[0m perd_img,wm_extracted,a_res,b_res \u001b[39m=\u001b[39m \\\n\u001b[0;32m---> <a href='vscode-notebook-cell://ssh-remote%2B172.23.135.240/home/hancy/code/adv_wm/wm_attack/1028.ipynb#X11sdnNjb2RlLXJlbW90ZQ%3D%3D?line=13'>14</a>\u001b[0m     atk_method(img,label,wm,model_origin,alpha,beta,block_size,N\u001b[39m=\u001b[39;49mN,l1\u001b[39m=\u001b[39;49ml1,l2\u001b[39m=\u001b[39;49ml2,s_a\u001b[39m=\u001b[39;49ms_a,s_b\u001b[39m=\u001b[39;49ms_b,beta_max\u001b[39m=\u001b[39;49mbeta_max,steps\u001b[39m=\u001b[39;49msteps,eps\u001b[39m=\u001b[39;49meps)\n\u001b[1;32m     <a href='vscode-notebook-cell://ssh-remote%2B172.23.135.240/home/hancy/code/adv_wm/wm_attack/1028.ipynb#X11sdnNjb2RlLXJlbW90ZQ%3D%3D?line=14'>15</a>\u001b[0m res_list \u001b[39m=\u001b[39m []\n\u001b[1;32m     <a href='vscode-notebook-cell://ssh-remote%2B172.23.135.240/home/hancy/code/adv_wm/wm_attack/1028.ipynb#X11sdnNjb2RlLXJlbW90ZQ%3D%3D?line=15'>16</a>\u001b[0m \u001b[39mfor\u001b[39;00m model \u001b[39min\u001b[39;00m model_list:\n",
      "File \u001b[0;32m~/code/adv_wm/wm_attack/../attacks/fgsm.py:37\u001b[0m, in \u001b[0;36mfgsm_wm_opti\u001b[0;34m(img, label, wm, model, alpha, beta, block_size, N, l1, l2, s_a, s_b, beta_max, **args)\u001b[0m\n\u001b[1;32m     35\u001b[0m beta_in \u001b[39m=\u001b[39m beta\n\u001b[1;32m     36\u001b[0m \u001b[39m# Transfer the perturbation to the watermark\u001b[39;00m\n\u001b[0;32m---> 37\u001b[0m wmed_img \u001b[39m=\u001b[39m embed_wm(img,wm,alpha,block_size)\n\u001b[1;32m     38\u001b[0m loss \u001b[39m=\u001b[39m nn\u001b[39m.\u001b[39mCrossEntropyLoss()  \u001b[39m# type: ignore\u001b[39;00m\n\u001b[1;32m     39\u001b[0m wmed_img \u001b[39m=\u001b[39m wmed_img\u001b[39m.\u001b[39munsqueeze(\u001b[39m0\u001b[39m)\n",
      "File \u001b[0;32m~/code/adv_wm/wm_attack/../watermark/dct_wm.py:54\u001b[0m, in \u001b[0;36membed_wm\u001b[0;34m(img, wm, alpha, block_size)\u001b[0m\n\u001b[1;32m     53\u001b[0m \u001b[39mdef\u001b[39;00m \u001b[39membed_wm\u001b[39m(img,wm,alpha,block_size\u001b[39m=\u001b[39m\u001b[39m8\u001b[39m):\n\u001b[0;32m---> 54\u001b[0m     img_dct \u001b[39m=\u001b[39m dct_tensor(img,block_size)\n\u001b[1;32m     55\u001b[0m     img_dct_wm \u001b[39m=\u001b[39m img_dct \u001b[39m+\u001b[39m alpha\u001b[39m*\u001b[39mwm\n\u001b[1;32m     56\u001b[0m     img_wm_idct \u001b[39m=\u001b[39m idct_tensor(img_dct_wm,block_size)\n",
      "File \u001b[0;32m~/code/adv_wm/wm_attack/../watermark/dct_wm.py:42\u001b[0m, in \u001b[0;36mdct_tensor\u001b[0;34m(img, block_size)\u001b[0m\n\u001b[1;32m     40\u001b[0m     \u001b[39mreturn\u001b[39;00m block_dct(img_np[\u001b[39m0\u001b[39m,\u001b[39m.\u001b[39m\u001b[39m.\u001b[39m\u001b[39m.\u001b[39m],block_size)\n\u001b[1;32m     41\u001b[0m \u001b[39melse\u001b[39;00m:\n\u001b[0;32m---> 42\u001b[0m     \u001b[39mreturn\u001b[39;00m torch\u001b[39m.\u001b[39mstack((block_dct(img_np[\u001b[39m0\u001b[39;49m,\u001b[39m.\u001b[39;49m\u001b[39m.\u001b[39;49m\u001b[39m.\u001b[39;49m],block_size),block_dct(img_np[\u001b[39m1\u001b[39m,\u001b[39m.\u001b[39m\u001b[39m.\u001b[39m\u001b[39m.\u001b[39m],block_size),block_dct(img_np[\u001b[39m2\u001b[39m,\u001b[39m.\u001b[39m\u001b[39m.\u001b[39m\u001b[39m.\u001b[39m],block_size)),dim\u001b[39m=\u001b[39m\u001b[39m0\u001b[39m)\n",
      "File \u001b[0;32m~/code/adv_wm/wm_attack/../watermark/dct_wm.py:17\u001b[0m, in \u001b[0;36mblock_dct\u001b[0;34m(bk, block_size)\u001b[0m\n\u001b[1;32m     14\u001b[0m     \u001b[39mfor\u001b[39;00m w \u001b[39min\u001b[39;00m \u001b[39mrange\u001b[39m(img_dct_blocks_w):\n\u001b[1;32m     15\u001b[0m         a_block \u001b[39m=\u001b[39m bk[h\u001b[39m*\u001b[39mblock_size:(h\u001b[39m+\u001b[39m\u001b[39m1\u001b[39m)\u001b[39m*\u001b[39mblock_size,w\u001b[39m*\u001b[39mblock_size:(w\u001b[39m+\u001b[39m\u001b[39m1\u001b[39m)\u001b[39m*\u001b[39mblock_size]\n\u001b[1;32m     16\u001b[0m         img_dct[h\u001b[39m*\u001b[39mblock_size:(h\u001b[39m+\u001b[39m\u001b[39m1\u001b[39m)\u001b[39m*\u001b[39mblock_size,w\u001b[39m*\u001b[39mblock_size:(w\u001b[39m+\u001b[39m\u001b[39m1\u001b[39m)\u001b[39m*\u001b[39mblock_size] \u001b[39m=\u001b[39m\\\n\u001b[0;32m---> 17\u001b[0m         cv2\u001b[39m.\u001b[39;49mdct(a_block)\n\u001b[1;32m     18\u001b[0m         \u001b[39m# pbar.update(1)\u001b[39;00m\n\u001b[1;32m     19\u001b[0m \u001b[39mreturn\u001b[39;00m torch\u001b[39m.\u001b[39mfrom_numpy(img_dct)\u001b[39m.\u001b[39mcuda()\n",
      "\u001b[0;31mKeyboardInterrupt\u001b[0m: "
     ]
    }
   ],
   "source": [
    "alpha = 0.1\n",
    "beta = 2/255\n",
    "beta_max = 8/255\n",
    "N = 30\n",
    "l1 = 0.02\n",
    "l2 = 0.05\n",
    "s_a = 0.0005\n",
    "s_b = 0.0001 \n",
    "imgs = datasets.ImageFolder('/home/hancy/dataset/imagenet5000/',transform=transforms.ToTensor())   # type: ignore\n",
    "wm_origin = cv2.imread('../img/logo.jpg')\n",
    "wm_origin = cv2.cvtColor(wm_origin,cv2.COLOR_BGR2RGB)\n",
    "wm_origin = transforms.ToTensor()(wm_origin).cuda()  # type: ignore\n",
    "model_list = [vgg19,resnet50,alexnet,densenet201,mobilenetv2]\n",
    "index = 0\n",
    "atk_name = 'fgsm_opt'\n",
    "for model_name in ['vgg19','resnet50','alexnet','densenet201','mobilenetv2']:\n",
    "    model = model_list[index]\n",
    "    filename = \"../transfer_res/model_{}_atk_{}_transfer.txt\".format(model_name,atk_name,alpha,beta,N,l1,l2,s_a,s_b,beta_max)\n",
    "    attack_and_record(filename,model,model_list,imgs,wm_origin,alpha=alpha,beta=beta,atk_name=atk_name,  # type: ignore\n",
    "                        N=N,l1=l1,l2=l2,s_a=s_a,s_b=s_b,beta_max=beta_max)\n",
    "    index += 1"
   ]
  },
  {
   "cell_type": "code",
   "execution_count": 18,
   "metadata": {},
   "outputs": [],
   "source": [
    "def check_and_record_transfer(filename,record_filename):\n",
    "    models_name = ['vgg19','resnet50','alexnet','densenet201','mobilenetv2']\n",
    "    cols = ['index']\n",
    "    for model_name in models_name:\n",
    "        cols.append('{}_pred'.format(model_name))\n",
    "        cols.append('{}_perd'.format(model_name))\n",
    "    res = pd.read_csv(filename,names=cols,header=None)\n",
    "    with open(record_filename,'a') as file:\n",
    "        file.write('{}\\n'.format(filename))\n",
    "        for model_name in models_name:\n",
    "            fool_rate = (res['{}_pred'.format(model_name)] != res['{}_perd'.format(model_name)]).sum()/res['index'].count()\n",
    "            print('Fool Rate {}:{}'.format(model_name, fool_rate))\n",
    "            file.write('{}:{},'.format(model_name,fool_rate))\n",
    "        file.write('\\n')"
   ]
  },
  {
   "cell_type": "code",
   "execution_count": 19,
   "metadata": {},
   "outputs": [
    {
     "name": "stdout",
     "output_type": "stream",
     "text": [
      "Fool Rate vgg19:0.9734\n",
      "Fool Rate resnet50:0.1826\n",
      "Fool Rate alexnet:0.1344\n",
      "Fool Rate densenet201:0.1206\n",
      "Fool Rate mobilenetv2:0.263\n"
     ]
    }
   ],
   "source": [
    "filename = '../transfer_res/model_vgg19_atk_fgsm_transfer.txt'\n",
    "record_filename = '../transfer_res/transfer_result.txt'\n",
    "check_and_record_transfer(filename,record_filename)"
   ]
  },
  {
   "cell_type": "code",
   "execution_count": 20,
   "metadata": {},
   "outputs": [
    {
     "name": "stdout",
     "output_type": "stream",
     "text": [
      "Fool Rate vgg19:0.9816\n",
      "Fool Rate resnet50:0.13\n",
      "Fool Rate alexnet:0.0976\n",
      "Fool Rate densenet201:0.0874\n",
      "Fool Rate mobilenetv2:0.1986\n"
     ]
    }
   ],
   "source": [
    "filename = '../transfer_res/model_vgg19_atk_fgsm_opt_stransfer.txt'\n",
    "record_filename = '../transfer_res/transfer_result.txt'\n",
    "check_and_record_transfer(filename,record_filename)"
   ]
  }
 ],
 "metadata": {
  "kernelspec": {
   "display_name": "Python 3.9.13 ('hancy')",
   "language": "python",
   "name": "python3"
  },
  "language_info": {
   "codemirror_mode": {
    "name": "ipython",
    "version": 3
   },
   "file_extension": ".py",
   "mimetype": "text/x-python",
   "name": "python",
   "nbconvert_exporter": "python",
   "pygments_lexer": "ipython3",
   "version": "3.9.13"
  },
  "orig_nbformat": 4,
  "vscode": {
   "interpreter": {
    "hash": "f230962487965b524392fa81469e3bf0947a6a0a62c5d831ecfebbaa4ceba3be"
   }
  }
 },
 "nbformat": 4,
 "nbformat_minor": 2
}
