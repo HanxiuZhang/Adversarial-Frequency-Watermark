{
 "cells": [
  {
   "cell_type": "code",
   "execution_count": 4,
   "metadata": {},
   "outputs": [],
   "source": [
    "import torch\n",
    "import sys\n",
    "sys.path.append('../models/')\n",
    "from alexnet import *\n",
    "from densenet_201 import *\n",
    "from mobilenet_v2 import *\n",
    "from resnet_50 import *\n",
    "from vgg_19 import *"
   ]
  },
  {
   "cell_type": "code",
   "execution_count": 86,
   "metadata": {},
   "outputs": [],
   "source": [
    "import cv2\n",
    "import numpy as np\n",
    "import matplotlib.pyplot as plt\n",
    "import torchvision\n",
    "import torchvision.datasets as datasets\n",
    "from torch.utils.data import DataLoader\n",
    "import torchvision.models as models\n",
    "import torchvision.transforms as transforms\n",
    "import torch.nn.functional as F\n",
    "from torch import norm\n",
    "import tqdm\n",
    "import torchattacks"
   ]
  },
  {
   "cell_type": "code",
   "execution_count": 36,
   "metadata": {},
   "outputs": [],
   "source": [
    "def pltshow(img,gray=False):\n",
    "    img = transforms.ToPILImage()(img)\n",
    "    plt.figure(figsize=(2,2))\n",
    "    plt.axis('off')\n",
    "    if(gray):\n",
    "        plt.imshow(img,cmap='gray')\n",
    "    else:\n",
    "        plt.imshow(img)"
   ]
  },
  {
   "cell_type": "code",
   "execution_count": 7,
   "metadata": {},
   "outputs": [],
   "source": [
    "# add border to image so that it can be divided perfectly with block_size\n",
    "def addborder(img,block_size=8):\n",
    "    diff_x = img.shape[0] % block_size\n",
    "    diff_y = img.shape[1] % block_size\n",
    "    if (diff_x==0 and diff_y==0):\n",
    "        return img\n",
    "    img = cv2.copyMakeBorder(img,\n",
    "              0,(block_size-diff_x),\n",
    "              0,(block_size-diff_y),\n",
    "              cv2.BORDER_REPLICATE)\n",
    "    return img"
   ]
  },
  {
   "cell_type": "code",
   "execution_count": 26,
   "metadata": {},
   "outputs": [],
   "source": [
    "def block_dct(bk,block_size=8):\n",
    "    img_dct_blocks_h = bk.shape[0] // block_size\n",
    "    img_dct_blocks_w = bk.shape[1] // block_size\n",
    "    img_dct = np.zeros(shape = (bk.shape[0],bk.shape[1]))\n",
    "# with tqdm(total=img_dct_blocks_h*img_dct_blocks_w) as pbar:\n",
    "#     pbar.set_description('DCT Processing')\n",
    "    for h in range(img_dct_blocks_h):\n",
    "        for w in range(img_dct_blocks_w):\n",
    "            a_block = bk[h*block_size:(h+1)*block_size,w*block_size:(w+1)*block_size]\n",
    "            img_dct[h*block_size:(h+1)*block_size,w*block_size:(w+1)*block_size] =\\\n",
    "            cv2.dct(a_block)\n",
    "            # pbar.update(1)\n",
    "    return torch.from_numpy(img_dct).cuda()\n",
    "\n",
    "def block_idct(bk,block_size=8):\n",
    "    img_dct_blocks_h = bk.shape[0] // block_size\n",
    "    img_dct_blocks_w = bk.shape[1] // block_size\n",
    "    img_idct = np.zeros(shape = (bk.shape[0],bk.shape[1]))\n",
    "# with tqdm(total=img_dct_blocks_h*img_dct_blocks_w) as pbar:\n",
    "#     pbar.set_description('IDCT Processing')\n",
    "    for h in range(img_dct_blocks_h):\n",
    "        for w in range(img_dct_blocks_w):\n",
    "            a_block = bk[h*block_size:(h+1)*block_size,w*block_size:(w+1)*block_size]\n",
    "            img_idct[h*block_size:(h+1)*block_size,w*block_size:(w+1)*block_size] =\\\n",
    "            cv2.idct(a_block)\n",
    "            # pbar.update(1)\n",
    "    return torch.from_numpy(img_idct).cuda()\n",
    "\n",
    "def dct_tensor(img,block_size=8):\n",
    "    img = img.cpu().numpy()\n",
    "    if img.ndim == 2:\n",
    "        return block_dct(img,block_size)\n",
    "    elif img.shape[0] == 1:\n",
    "        return block_dct(img[0,...],block_size)\n",
    "    else:\n",
    "        return torch.stack((block_dct(img[0,...],block_size),block_dct(img[1,...],block_size),block_dct(img[2,...],block_size)),dim=0)\n",
    "\n",
    "def idct_tensor(img,block_size=8):\n",
    "    img = img.cpu().numpy()\n",
    "    if img.ndim == 2:\n",
    "        return block_idct(img,block_size)\n",
    "    elif img.shape[0] == 1:\n",
    "        return block_idct(img[0,...],block_size)\n",
    "    else:\n",
    "        return torch.stack((block_idct(img[0,...],block_size),block_idct(img[1,...],block_size),block_idct(img[2,...],block_size)),dim=0)\n",
    "\n",
    "def embed_wm(img,wm,alpha,block_size=8):\n",
    "    img_dct = dct_tensor(img,block_size)\n",
    "    img_dct_wm = img_dct + alpha*wm\n",
    "    img_wm_idct = idct_tensor(img_dct_wm,block_size)\n",
    "    wmed_img = img_wm_idct.clip(0,1)\n",
    "    return wmed_img\n",
    "\n",
    "def extract_wm(img,wmed_img,alpha,block_size=8):\n",
    "    img_dct = dct_tensor(img,block_size)\n",
    "    wmed_dct = dct_tensor(wmed_img,block_size)\n",
    "    wm = (wmed_dct-img_dct)/alpha\n",
    "    return wm"
   ]
  },
  {
   "cell_type": "code",
   "execution_count": 9,
   "metadata": {},
   "outputs": [],
   "source": [
    "def check_out(model,img,target):\n",
    "    img = torch.unsqueeze(img,0).type(torch.FloatTensor).cuda()\n",
    "    out = (F.softmax(model(img),dim=1))\n",
    "    out = out.argmax()\n",
    "    return (out == target).item()"
   ]
  },
  {
   "cell_type": "code",
   "execution_count": 10,
   "metadata": {},
   "outputs": [],
   "source": [
    "def alpha_update(alpha,beta,l1,l2,step,idct_wm,per,dct_per):\n",
    "    grad = l1*norm(alpha*idct_wm+beta*per)*norm(idct_wm)-l2*(beta/alpha**2)*norm(dct_per)\n",
    "    alpha_new = alpha - step*alpha\n",
    "    if alpha_new < 0:\n",
    "        alpha_new = alpha\n",
    "    return alpha_new\n",
    "def beta_update(alpha,beta,l1,l2,step,idct_wm,per,dct_per):\n",
    "    grad = l1*norm(alpha*idct_wm+beta*per)*norm(per)+l2*(1/alpha)*norm(dct_per)\n",
    "    beta_new = beta - step*beta\n",
    "    if beta_new < 0:\n",
    "        beta_new = beta\n",
    "    return beta_new"
   ]
  },
  {
   "cell_type": "code",
   "execution_count": 11,
   "metadata": {},
   "outputs": [],
   "source": [
    "def opti(img,wm,model,atk,target,N,alpha,beta,l1,l2,s_a,s_b):\n",
    "    wmed_origin = embed_wm(img,wm,alpha)\n",
    "    wmed_input = torch.unsqueeze(wmed_origin,0).type(torch.FloatTensor).cuda()\n",
    "    adv_images = atk(wmed_input, target)\n",
    "    adv_wmed_origin = adv_images[0,...]\n",
    "    per = (adv_wmed_origin-wmed_origin)/beta\n",
    "    per_dct = dct_tensor(per)\n",
    "    wm_per = per_dct * (beta/alpha)\n",
    "    wm_perturbed = (wm_per+wm).clip(0,1)\n",
    "    wmed = embed_wm(img,wm_perturbed,alpha)\n",
    "    idct_wm = idct_tensor(wm)\n",
    "    dct_per = dct_tensor(per)\n",
    "    wm_res = wm_perturbed\n",
    "    wmed_res = wmed\n",
    "    with tqdm(total=N) as pbar:\n",
    "        pbar.set_description('Optimization Processing')\n",
    "        for n in range(N):\n",
    "            alpha_new = alpha_update(alpha,beta,l1,l2,s_a,idct_wm,per,dct_per)\n",
    "            beta_new = beta_update(alpha,beta,l1,l2,s_b,idct_wm,per,dct_per)\n",
    "            wm_perturbed = (wm + (beta_new/alpha_new)*dct_per).clip(0,1)\n",
    "            wmed = embed_wm(img,wm_perturbed,alpha_new)\n",
    "            if check_out(model,wmed,target):\n",
    "                return wm_res,wmed_res\n",
    "            else:\n",
    "                alpha = alpha_new\n",
    "                beta = beta_new\n",
    "                wm_res = wm_perturbed\n",
    "                wmed_res = wmed\n",
    "            pbar.update(1)   \n",
    "        return wm_res,wmed_res,alpha,beta"
   ]
  },
  {
   "cell_type": "code",
   "execution_count": 19,
   "metadata": {},
   "outputs": [
    {
     "name": "stdout",
     "output_type": "stream",
     "text": [
      "Files already downloaded and verified\n"
     ]
    }
   ],
   "source": [
    "model = torch.load('../models/pts/cifar_vgg_19.pt')\n",
    "T = transforms.ToTensor()\n",
    "cifar_testset = datasets.CIFAR10(root='~/newStuFile/ZHX/dataset/',train=False,transform=T,download=True)"
   ]
  },
  {
   "cell_type": "code",
   "execution_count": 20,
   "metadata": {},
   "outputs": [
    {
     "data": {
      "text/plain": [
       "10000"
      ]
     },
     "execution_count": 20,
     "metadata": {},
     "output_type": "execute_result"
    }
   ],
   "source": [
    "len(cifar_testset)"
   ]
  },
  {
   "cell_type": "code",
   "execution_count": 138,
   "metadata": {},
   "outputs": [
    {
     "data": {
      "text/plain": [
       "True"
      ]
     },
     "execution_count": 138,
     "metadata": {},
     "output_type": "execute_result"
    }
   ],
   "source": [
    "check_out(model,cifar_testset[100][0],cifar_testset[100][1])"
   ]
  },
  {
   "cell_type": "code",
   "execution_count": 139,
   "metadata": {},
   "outputs": [
    {
     "data": {
      "image/png": "[encoded data removed]",
      "text/plain": [
       "<Figure size 200x200 with 1 Axes>"
      ]
     },
     "metadata": {},
     "output_type": "display_data"
    }
   ],
   "source": [
    "img = cifar_testset[100][0]\n",
    "pltshow(img)"
   ]
  },
  {
   "cell_type": "code",
   "execution_count": 140,
   "metadata": {},
   "outputs": [],
   "source": [
    "img_root = ''"
   ]
  },
  {
   "cell_type": "code",
   "execution_count": 141,
   "metadata": {},
   "outputs": [],
   "source": [
    "wm = cv2.imread('../../adv_watermark/img/logo.jpg')\n",
    "wm = cv2.cvtColor(wm,cv2.COLOR_BGR2RGB)"
   ]
  },
  {
   "cell_type": "code",
   "execution_count": 142,
   "metadata": {},
   "outputs": [],
   "source": [
    "wm = cv2.resize(wm,dsize=(img.shape[2],img.shape[1]),fx=1,fy=1,interpolation=cv2.INTER_LINEAR)"
   ]
  },
  {
   "cell_type": "code",
   "execution_count": 143,
   "metadata": {},
   "outputs": [],
   "source": [
    "wm = T(wm)\n"
   ]
  },
  {
   "cell_type": "code",
   "execution_count": 144,
   "metadata": {},
   "outputs": [],
   "source": [
    "wm = wm.cuda()"
   ]
  },
  {
   "cell_type": "code",
   "execution_count": 145,
   "metadata": {},
   "outputs": [
    {
     "data": {
      "image/png": "[encoded data removed]",
      "text/plain": [
       "<Figure size 200x200 with 1 Axes>"
      ]
     },
     "metadata": {},
     "output_type": "display_data"
    }
   ],
   "source": [
    "pltshow(wm)"
   ]
  },
  {
   "cell_type": "code",
   "execution_count": null,
   "metadata": {},
   "outputs": [],
   "source": [
    "import torchattacks\n",
    "for i in range(len(cifar_testset)):\n",
    "    pass"
   ]
  },
  {
   "cell_type": "code",
   "execution_count": 146,
   "metadata": {},
   "outputs": [],
   "source": [
    "alpha = 0.05\n",
    "block_size = 4"
   ]
  },
  {
   "cell_type": "code",
   "execution_count": 147,
   "metadata": {},
   "outputs": [],
   "source": [
    "wmed = embed_wm(img,wm,alpha,block_size)"
   ]
  },
  {
   "cell_type": "code",
   "execution_count": 148,
   "metadata": {},
   "outputs": [
    {
     "data": {
      "image/png": "[encoded data removed]",
      "text/plain": [
       "<Figure size 200x200 with 1 Axes>"
      ]
     },
     "metadata": {},
     "output_type": "display_data"
    }
   ],
   "source": [
    "pltshow(wmed)"
   ]
  },
  {
   "cell_type": "code",
   "execution_count": 149,
   "metadata": {},
   "outputs": [],
   "source": [
    "extract = extract_wm(img,wmed,alpha,block_size)"
   ]
  },
  {
   "cell_type": "code",
   "execution_count": 150,
   "metadata": {},
   "outputs": [
    {
     "data": {
      "image/png": "[encoded data removed]",
      "text/plain": [
       "<Figure size 200x200 with 1 Axes>"
      ]
     },
     "metadata": {},
     "output_type": "display_data"
    }
   ],
   "source": [
    "pltshow(extract)"
   ]
  },
  {
   "cell_type": "code",
   "execution_count": 158,
   "metadata": {},
   "outputs": [
    {
     "name": "stdout",
     "output_type": "stream",
     "text": [
      "tensor(1., device='cuda:0', grad_fn=<MaxBackward1>)\n",
      "tensor(7, device='cuda:0')\n"
     ]
    }
   ],
   "source": [
    "beta = 8/255\n",
    "pgd_atk = torchattacks.PGD(model, eps=8/255, alpha=beta, steps=100, random_start=True)\n",
    "wmed_input = torch.unsqueeze(wmed,0).type(torch.FloatTensor)\n",
    "target = torch.tensor([cifar_testset[100][1]]).cuda()\n",
    "adv_images = pgd_atk(wmed_input, target)\n",
    "out_per = (F.softmax(model(adv_images),dim=1))\n",
    "print(torch.max(out_per))\n",
    "print(out_per.argmax())\n",
    "pgd_wmed = adv_images[0,...]"
   ]
  },
  {
   "cell_type": "code",
   "execution_count": 159,
   "metadata": {},
   "outputs": [
    {
     "data": {
      "image/png": "[encoded data removed]",
      "text/plain": [
       "<Figure size 200x200 with 1 Axes>"
      ]
     },
     "metadata": {},
     "output_type": "display_data"
    }
   ],
   "source": [
    "pltshow(extract_wm(img,pgd_wmed,alpha,block_size))"
   ]
  },
  {
   "cell_type": "code",
   "execution_count": 160,
   "metadata": {},
   "outputs": [
    {
     "data": {
      "image/png": "[encoded data removed]",
      "text/plain": [
       "<Figure size 200x200 with 1 Axes>"
      ]
     },
     "metadata": {},
     "output_type": "display_data"
    }
   ],
   "source": [
    "pgd_per = (pgd_wmed-wmed)/beta\n",
    "per_dct = dct_tensor(pgd_per)\n",
    "wm_per = per_dct * (beta/alpha)\n",
    "wm_perturbed = (wm_per+wm).clip(0,1)\n",
    "pltshow(wm_perturbed)"
   ]
  },
  {
   "cell_type": "code",
   "execution_count": 161,
   "metadata": {},
   "outputs": [],
   "source": [
    "wmed_new = embed_wm(img,wm_perturbed,alpha,block_size)"
   ]
  },
  {
   "cell_type": "code",
   "execution_count": 162,
   "metadata": {},
   "outputs": [
    {
     "data": {
      "image/png": "[encoded data removed]",
      "text/plain": [
       "<Figure size 200x200 with 1 Axes>"
      ]
     },
     "metadata": {},
     "output_type": "display_data"
    }
   ],
   "source": [
    "pltshow(wmed_new)"
   ]
  },
  {
   "cell_type": "code",
   "execution_count": 163,
   "metadata": {},
   "outputs": [
    {
     "name": "stdout",
     "output_type": "stream",
     "text": [
      "tensor(0.9842, device='cuda:0', grad_fn=<MaxBackward1>)\n",
      "tensor(4, device='cuda:0')\n"
     ]
    }
   ],
   "source": [
    "new_input = torch.unsqueeze(wmed_new,0).type(torch.cuda.FloatTensor)\n",
    "out_per = (F.softmax(model(new_input),dim=1))\n",
    "print(torch.max(out_per))\n",
    "print(out_per.argmax())"
   ]
  },
  {
   "cell_type": "code",
   "execution_count": null,
   "metadata": {},
   "outputs": [],
   "source": []
  }
 ],
 "metadata": {
  "kernelspec": {
   "display_name": "Python 3.9.13 ('hancy')",
   "language": "python",
   "name": "python3"
  },
  "language_info": {
   "codemirror_mode": {
    "name": "ipython",
    "version": 3
   },
   "file_extension": ".py",
   "mimetype": "text/x-python",
   "name": "python",
   "nbconvert_exporter": "python",
   "pygments_lexer": "ipython3",
   "version": "3.9.13"
  },
  "orig_nbformat": 4,
  "vscode": {
   "interpreter": {
    "hash": "f230962487965b524392fa81469e3bf0947a6a0a62c5d831ecfebbaa4ceba3be"
   }
  }
 },
 "nbformat": 4,
 "nbformat_minor": 2
}
