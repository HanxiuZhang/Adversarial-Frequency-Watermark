{
 "cells": [
  {
   "cell_type": "code",
   "execution_count": 2,
   "metadata": {},
   "outputs": [],
   "source": [
    "# google drive\n",
    "# from google.colab import drive\n",
    "# drive.mount('/content/drive')\n",
    "# file address in google drive\n",
    "file_root = './'"
   ]
  },
  {
   "cell_type": "code",
   "execution_count": 3,
   "metadata": {},
   "outputs": [],
   "source": [
    "import cv2\n",
    "import numpy as np\n",
    "import matplotlib.pyplot as plt\n",
    "from tqdm import tqdm"
   ]
  },
  {
   "cell_type": "code",
   "execution_count": 4,
   "metadata": {},
   "outputs": [],
   "source": [
    "def pltshow(img,gray=False):\n",
    "    plt.figure(figsize=(5,5))\n",
    "    plt.axis('off')\n",
    "    if(gray):\n",
    "        plt.imshow(img,cmap='gray')\n",
    "    else:\n",
    "        plt.imshow(img)"
   ]
  },
  {
   "cell_type": "code",
   "execution_count": 9,
   "metadata": {},
   "outputs": [],
   "source": [
    "logo = cv2.imread('%secnu3.png'%file_root)\n",
    "# logo = cv2.cvtColor(logo,cv2.COLOR_BGR2RGB)\n",
    "with tqdm(total=logo.shape[0]*logo.shape[1]) as pbar:\n",
    "    pbar.set_description('Change Processing')\n",
    "    for w in range(logo.shape[0]):\n",
    "        for h in range(logo.shape[1]):\n",
    "            if (logo[w][h] == [255,255,255]).all():\n",
    "                logo[w][h] = [0,0,0]\n",
    "            pbar.update(1)\n",
    "cv2.imwrite('%slogo.jpg'%file_root, logo)\n",
    "text = cv2.imread('%secnu_text.png'%file_root)\n",
    "with tqdm(total=text.shape[0]*text.shape[1]) as pbar:\n",
    "    pbar.set_description('Change Processing')\n",
    "    for w in range(text.shape[0]):\n",
    "        for h in range(text.shape[1]):\n",
    "            if (text[w][h] == [255,255,255]).all():\n",
    "                text[w][h] = [0,0,0]\n",
    "            else:\n",
    "                text[w][h] = [52,32,155]\n",
    "            pbar.update(1)\n",
    "cv2.imwrite('%stext.jpg'%file_root, text)"
   ]
  },
  {
   "cell_type": "code",
   "execution_count": null,
   "metadata": {},
   "outputs": [],
   "source": []
  }
 ],
 "metadata": {
  "kernelspec": {
   "display_name": "hancy",
   "language": "python",
   "name": "hancy"
  },
  "language_info": {
   "codemirror_mode": {
    "name": "ipython",
    "version": 3
   },
   "file_extension": ".py",
   "mimetype": "text/x-python",
   "name": "python",
   "nbconvert_exporter": "python",
   "pygments_lexer": "ipython3",
   "version": "3.9.12"
  },
  "orig_nbformat": 4
 },
 "nbformat": 4,
 "nbformat_minor": 2
}
