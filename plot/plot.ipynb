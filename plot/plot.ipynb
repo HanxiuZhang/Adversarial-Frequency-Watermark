{
 "cells": [
  {
   "cell_type": "code",
   "execution_count": null,
   "metadata": {},
   "outputs": [],
   "source": [
    "import sys\n",
    "sys.path.append('../wm_attack/')\n",
    "sys.path.append('../watermark/')\n",
    "sys.path.append('../attacks/')\n",
    "sys.path.append('../models/')\n",
    "from atk_utils import *\n",
    "from dct_wm import *\n",
    "from fgsm import *\n",
    "from ifgsm import *\n",
    "from utils import *"
   ]
  },
  {
   "cell_type": "code",
   "execution_count": null,
   "metadata": {},
   "outputs": [],
   "source": [
    "from torchvision import transforms\n",
    "import torch"
   ]
  },
  {
   "cell_type": "code",
   "execution_count": null,
   "metadata": {},
   "outputs": [],
   "source": [
    "block_size = 8\n",
    "alpha = 0.1\n",
    "beta = 20/255\n",
    "beta_max = 20/255\n",
    "N = 20\n",
    "l1 = 0.01\n",
    "l2 = 0.1\n",
    "s_a = 0.0005\n",
    "s_b = 0.0001\n",
    "steps = 10\n",
    "eps = 30/255"
   ]
  },
  {
   "cell_type": "code",
   "execution_count": null,
   "metadata": {},
   "outputs": [],
   "source": [
    "model = get_model('resnet50')\n",
    "T = transforms.ToTensor()\n",
    "img = cv2.imread('../img/beagle.jpg')\n",
    "img = cv2.cvtColor(img,cv2.COLOR_BGR2RGB)\n",
    "img = addborder(T(img),block_size).cuda()\n",
    "wm = cv2.imread('../img/logo_big.png')\n",
    "wm = cv2.cvtColor(wm,cv2.COLOR_BGR2RGB)\n",
    "wm = transforms.Resize(img.size()[-2:])(T(wm)).cuda()"
   ]
  },
  {
   "cell_type": "code",
   "execution_count": null,
   "metadata": {},
   "outputs": [],
   "source": [
    "label = torch.tensor([model(img.unsqueeze(0)).argmax()]).cuda()  # type: ignore\n",
    "img_wm_perturb = ifgsm_pipeline(img,label,wm,model,alpha,beta,block_size,steps,eps)  # type: ignore\n",
    "img_wm_perturb_optimize, wm_extra2, a_res, b_res = ifgsm_wm_opti(img,label,wm,model,alpha,beta,block_size,N,l1,l2,s_a,s_b,beta_max,steps,eps) # type: ignore"
   ]
  },
  {
   "cell_type": "code",
   "execution_count": null,
   "metadata": {},
   "outputs": [],
   "source": [
    "img_wm = embed_wm(img,wm,alpha,block_size)\n",
    "wm_extract = extract_wm(img,img_wm,alpha,block_size)"
   ]
  },
  {
   "cell_type": "code",
   "execution_count": null,
   "metadata": {},
   "outputs": [],
   "source": [
    "wm_extra1 = extract_wm(img,img_wm_perturb,alpha,block_size)"
   ]
  },
  {
   "cell_type": "code",
   "execution_count": null,
   "metadata": {},
   "outputs": [],
   "source": [
    "pltshow(wm_extra1)"
   ]
  },
  {
   "cell_type": "code",
   "execution_count": null,
   "metadata": {},
   "outputs": [],
   "source": [
    "pltshow(wm_extra2)"
   ]
  },
  {
   "cell_type": "code",
   "execution_count": null,
   "metadata": {},
   "outputs": [],
   "source": [
    "pltshow(wm_extract)"
   ]
  },
  {
   "cell_type": "code",
   "execution_count": null,
   "metadata": {},
   "outputs": [],
   "source": [
    "pltshow(img_wm_perturb)"
   ]
  },
  {
   "cell_type": "code",
   "execution_count": null,
   "metadata": {},
   "outputs": [],
   "source": [
    "pltshow(img_wm_perturb_optimize)"
   ]
  },
  {
   "cell_type": "code",
   "execution_count": null,
   "metadata": {},
   "outputs": [],
   "source": []
  }
 ],
 "metadata": {
  "kernelspec": {
   "display_name": "Python 3.9.13 ('hancy')",
   "language": "python",
   "name": "python3"
  },
  "language_info": {
   "codemirror_mode": {
    "name": "ipython",
    "version": 3
   },
   "file_extension": ".py",
   "mimetype": "text/x-python",
   "name": "python",
   "nbconvert_exporter": "python",
   "pygments_lexer": "ipython3",
   "version": "3.9.13"
  },
  "orig_nbformat": 4,
  "vscode": {
   "interpreter": {
    "hash": "f230962487965b524392fa81469e3bf0947a6a0a62c5d831ecfebbaa4ceba3be"
   }
  }
 },
 "nbformat": 4,
 "nbformat_minor": 2
}
